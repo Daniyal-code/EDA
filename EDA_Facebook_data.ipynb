{
 "cells": [
  {
   "cell_type": "markdown",
   "id": "f958e682",
   "metadata": {},
   "source": [
    "# Overview"
   ]
  },
  {
   "cell_type": "raw",
   "id": "30391cb6",
   "metadata": {},
   "source": [
    "1) Importing relevant Libraries/data\n",
    "   ● Understanding the shape of the data\n",
    "2) Data Cleaning\n",
    "   ● A quick overview of the shape of the data using describe method.\n",
    "   ● checking for null values\n",
    "   ● lighter look at the data info\n",
    "   ● observing distribution of data in order to fill the null values \n",
    "3) Data Exploration\n",
    "   ● checking for outliers\n",
    "   ● Correlation between the metrics \n",
    "   ● Plotting heatmaps to check for correlations\n",
    "4) Feature Engineering\n",
    "   ● Exploring relevant feature to bring important insights\n",
    "5) Analysis based on gender of the users\n",
    "6) Analysis based on the least active users on Facebook\n",
    "7) Analysis based on the user accessibility (Mobile Devices vs. Web Devices)"
   ]
  },
  {
   "cell_type": "markdown",
   "id": "06aad805",
   "metadata": {},
   "source": [
    "# NOTE"
   ]
  },
  {
   "cell_type": "raw",
   "id": "39dba4e5",
   "metadata": {},
   "source": [
    "I am not doing the model pre-processing steps like:Feature scalling , data spliting, Feature/label Encoding because we are not building the model(as per the requirement)."
   ]
  },
  {
   "cell_type": "markdown",
   "id": "74ab0bab",
   "metadata": {},
   "source": [
    "# Assignment: \n",
    "   Exploratory Data Analysis(EDA) on Facebook Utilization Data"
   ]
  },
  {
   "cell_type": "markdown",
   "id": "394324f7",
   "metadata": {},
   "source": [
    "# Problem Statement:\n",
    "The objective of the proposed framework is to study and analyse the differences in the way users\n",
    "are using Facebook based on their gender, age-group, etc. and Identify a pattern out of it."
   ]
  },
  {
   "cell_type": "code",
   "execution_count": 1,
   "id": "ded8d4ef",
   "metadata": {},
   "outputs": [],
   "source": [
    "import numpy as np\n",
    "import matplotlib.pyplot as plt\n",
    "import pandas as pd\n",
    "import seaborn as sns\n",
    "import warnings"
   ]
  },
  {
   "cell_type": "code",
   "execution_count": 2,
   "id": "8883485f",
   "metadata": {},
   "outputs": [],
   "source": [
    "# Hides warning\n",
    "warnings.filterwarnings('ignore')\n",
    "warnings.filterwarnings(\"ignore\", category=DeprecationWarning)\n",
    "warnings.filterwarnings(\"ignore\",category=UserWarning)"
   ]
  },
  {
   "cell_type": "code",
   "execution_count": 3,
   "id": "30a1c98d",
   "metadata": {},
   "outputs": [],
   "source": [
    "df = pd.read_csv('facebook user data - facebook user data.csv')"
   ]
  },
  {
   "cell_type": "code",
   "execution_count": 4,
   "id": "323ef12c",
   "metadata": {},
   "outputs": [
    {
     "data": {
      "text/html": [
       "<div>\n",
       "<style scoped>\n",
       "    .dataframe tbody tr th:only-of-type {\n",
       "        vertical-align: middle;\n",
       "    }\n",
       "\n",
       "    .dataframe tbody tr th {\n",
       "        vertical-align: top;\n",
       "    }\n",
       "\n",
       "    .dataframe thead th {\n",
       "        text-align: right;\n",
       "    }\n",
       "</style>\n",
       "<table border=\"1\" class=\"dataframe\">\n",
       "  <thead>\n",
       "    <tr style=\"text-align: right;\">\n",
       "      <th></th>\n",
       "      <th>userid</th>\n",
       "      <th>age</th>\n",
       "      <th>dob_day</th>\n",
       "      <th>dob_year</th>\n",
       "      <th>dob_month</th>\n",
       "      <th>gender</th>\n",
       "      <th>tenure</th>\n",
       "      <th>friend_count</th>\n",
       "      <th>friendships_initiated</th>\n",
       "      <th>likes</th>\n",
       "      <th>likes_received</th>\n",
       "      <th>mobile_likes</th>\n",
       "      <th>mobile_likes_received</th>\n",
       "      <th>www_likes</th>\n",
       "      <th>www_likes_received</th>\n",
       "    </tr>\n",
       "  </thead>\n",
       "  <tbody>\n",
       "    <tr>\n",
       "      <th>0</th>\n",
       "      <td>2094382</td>\n",
       "      <td>14</td>\n",
       "      <td>19</td>\n",
       "      <td>1999</td>\n",
       "      <td>11</td>\n",
       "      <td>male</td>\n",
       "      <td>266.0</td>\n",
       "      <td>0</td>\n",
       "      <td>0</td>\n",
       "      <td>0</td>\n",
       "      <td>0</td>\n",
       "      <td>0</td>\n",
       "      <td>0</td>\n",
       "      <td>0</td>\n",
       "      <td>0</td>\n",
       "    </tr>\n",
       "    <tr>\n",
       "      <th>1</th>\n",
       "      <td>1192601</td>\n",
       "      <td>14</td>\n",
       "      <td>2</td>\n",
       "      <td>1999</td>\n",
       "      <td>11</td>\n",
       "      <td>female</td>\n",
       "      <td>6.0</td>\n",
       "      <td>0</td>\n",
       "      <td>0</td>\n",
       "      <td>0</td>\n",
       "      <td>0</td>\n",
       "      <td>0</td>\n",
       "      <td>0</td>\n",
       "      <td>0</td>\n",
       "      <td>0</td>\n",
       "    </tr>\n",
       "    <tr>\n",
       "      <th>2</th>\n",
       "      <td>2083884</td>\n",
       "      <td>14</td>\n",
       "      <td>16</td>\n",
       "      <td>1999</td>\n",
       "      <td>11</td>\n",
       "      <td>male</td>\n",
       "      <td>13.0</td>\n",
       "      <td>0</td>\n",
       "      <td>0</td>\n",
       "      <td>0</td>\n",
       "      <td>0</td>\n",
       "      <td>0</td>\n",
       "      <td>0</td>\n",
       "      <td>0</td>\n",
       "      <td>0</td>\n",
       "    </tr>\n",
       "    <tr>\n",
       "      <th>3</th>\n",
       "      <td>1203168</td>\n",
       "      <td>14</td>\n",
       "      <td>25</td>\n",
       "      <td>1999</td>\n",
       "      <td>12</td>\n",
       "      <td>female</td>\n",
       "      <td>93.0</td>\n",
       "      <td>0</td>\n",
       "      <td>0</td>\n",
       "      <td>0</td>\n",
       "      <td>0</td>\n",
       "      <td>0</td>\n",
       "      <td>0</td>\n",
       "      <td>0</td>\n",
       "      <td>0</td>\n",
       "    </tr>\n",
       "    <tr>\n",
       "      <th>4</th>\n",
       "      <td>1733186</td>\n",
       "      <td>14</td>\n",
       "      <td>4</td>\n",
       "      <td>1999</td>\n",
       "      <td>12</td>\n",
       "      <td>male</td>\n",
       "      <td>82.0</td>\n",
       "      <td>0</td>\n",
       "      <td>0</td>\n",
       "      <td>0</td>\n",
       "      <td>0</td>\n",
       "      <td>0</td>\n",
       "      <td>0</td>\n",
       "      <td>0</td>\n",
       "      <td>0</td>\n",
       "    </tr>\n",
       "  </tbody>\n",
       "</table>\n",
       "</div>"
      ],
      "text/plain": [
       "    userid  age  dob_day  dob_year  dob_month  gender  tenure  friend_count  \\\n",
       "0  2094382   14       19      1999         11    male   266.0             0   \n",
       "1  1192601   14        2      1999         11  female     6.0             0   \n",
       "2  2083884   14       16      1999         11    male    13.0             0   \n",
       "3  1203168   14       25      1999         12  female    93.0             0   \n",
       "4  1733186   14        4      1999         12    male    82.0             0   \n",
       "\n",
       "   friendships_initiated  likes  likes_received  mobile_likes  \\\n",
       "0                      0      0               0             0   \n",
       "1                      0      0               0             0   \n",
       "2                      0      0               0             0   \n",
       "3                      0      0               0             0   \n",
       "4                      0      0               0             0   \n",
       "\n",
       "   mobile_likes_received  www_likes  www_likes_received  \n",
       "0                      0          0                   0  \n",
       "1                      0          0                   0  \n",
       "2                      0          0                   0  \n",
       "3                      0          0                   0  \n",
       "4                      0          0                   0  "
      ]
     },
     "execution_count": 4,
     "metadata": {},
     "output_type": "execute_result"
    }
   ],
   "source": [
    "df.head()"
   ]
  },
  {
   "cell_type": "code",
   "execution_count": 5,
   "id": "4fb1c984",
   "metadata": {},
   "outputs": [
    {
     "data": {
      "text/plain": [
       "(99003, 15)"
      ]
     },
     "execution_count": 5,
     "metadata": {},
     "output_type": "execute_result"
    }
   ],
   "source": [
    "df.shape"
   ]
  },
  {
   "cell_type": "code",
   "execution_count": 6,
   "id": "c8c09181",
   "metadata": {},
   "outputs": [],
   "source": [
    "# taking few numeric columns to see their basic statistics\n",
    "df_data = df[['age','tenure','friend_count','likes','likes_received']]"
   ]
  },
  {
   "cell_type": "markdown",
   "id": "7e6908fc",
   "metadata": {},
   "source": [
    "# Data Cleaning & Analysis"
   ]
  },
  {
   "cell_type": "code",
   "execution_count": 7,
   "id": "05b0e2a2",
   "metadata": {},
   "outputs": [
    {
     "data": {
      "text/html": [
       "<div>\n",
       "<style scoped>\n",
       "    .dataframe tbody tr th:only-of-type {\n",
       "        vertical-align: middle;\n",
       "    }\n",
       "\n",
       "    .dataframe tbody tr th {\n",
       "        vertical-align: top;\n",
       "    }\n",
       "\n",
       "    .dataframe thead th {\n",
       "        text-align: right;\n",
       "    }\n",
       "</style>\n",
       "<table border=\"1\" class=\"dataframe\">\n",
       "  <thead>\n",
       "    <tr style=\"text-align: right;\">\n",
       "      <th></th>\n",
       "      <th>age</th>\n",
       "      <th>tenure</th>\n",
       "      <th>friend_count</th>\n",
       "      <th>likes</th>\n",
       "      <th>likes_received</th>\n",
       "    </tr>\n",
       "  </thead>\n",
       "  <tbody>\n",
       "    <tr>\n",
       "      <th>count</th>\n",
       "      <td>99003.000000</td>\n",
       "      <td>99001.000000</td>\n",
       "      <td>99003.000000</td>\n",
       "      <td>99003.000000</td>\n",
       "      <td>99003.000000</td>\n",
       "    </tr>\n",
       "    <tr>\n",
       "      <th>mean</th>\n",
       "      <td>37.280224</td>\n",
       "      <td>537.887375</td>\n",
       "      <td>196.350787</td>\n",
       "      <td>156.078785</td>\n",
       "      <td>142.689363</td>\n",
       "    </tr>\n",
       "    <tr>\n",
       "      <th>std</th>\n",
       "      <td>22.589748</td>\n",
       "      <td>457.649874</td>\n",
       "      <td>387.304229</td>\n",
       "      <td>572.280681</td>\n",
       "      <td>1387.919613</td>\n",
       "    </tr>\n",
       "    <tr>\n",
       "      <th>min</th>\n",
       "      <td>13.000000</td>\n",
       "      <td>0.000000</td>\n",
       "      <td>0.000000</td>\n",
       "      <td>0.000000</td>\n",
       "      <td>0.000000</td>\n",
       "    </tr>\n",
       "    <tr>\n",
       "      <th>25%</th>\n",
       "      <td>20.000000</td>\n",
       "      <td>226.000000</td>\n",
       "      <td>31.000000</td>\n",
       "      <td>1.000000</td>\n",
       "      <td>1.000000</td>\n",
       "    </tr>\n",
       "    <tr>\n",
       "      <th>50%</th>\n",
       "      <td>28.000000</td>\n",
       "      <td>412.000000</td>\n",
       "      <td>82.000000</td>\n",
       "      <td>11.000000</td>\n",
       "      <td>8.000000</td>\n",
       "    </tr>\n",
       "    <tr>\n",
       "      <th>75%</th>\n",
       "      <td>50.000000</td>\n",
       "      <td>675.000000</td>\n",
       "      <td>206.000000</td>\n",
       "      <td>81.000000</td>\n",
       "      <td>59.000000</td>\n",
       "    </tr>\n",
       "    <tr>\n",
       "      <th>max</th>\n",
       "      <td>113.000000</td>\n",
       "      <td>3139.000000</td>\n",
       "      <td>4923.000000</td>\n",
       "      <td>25111.000000</td>\n",
       "      <td>261197.000000</td>\n",
       "    </tr>\n",
       "  </tbody>\n",
       "</table>\n",
       "</div>"
      ],
      "text/plain": [
       "                age        tenure  friend_count         likes  likes_received\n",
       "count  99003.000000  99001.000000  99003.000000  99003.000000    99003.000000\n",
       "mean      37.280224    537.887375    196.350787    156.078785      142.689363\n",
       "std       22.589748    457.649874    387.304229    572.280681     1387.919613\n",
       "min       13.000000      0.000000      0.000000      0.000000        0.000000\n",
       "25%       20.000000    226.000000     31.000000      1.000000        1.000000\n",
       "50%       28.000000    412.000000     82.000000     11.000000        8.000000\n",
       "75%       50.000000    675.000000    206.000000     81.000000       59.000000\n",
       "max      113.000000   3139.000000   4923.000000  25111.000000   261197.000000"
      ]
     },
     "execution_count": 7,
     "metadata": {},
     "output_type": "execute_result"
    }
   ],
   "source": [
    "df_data.describe()"
   ]
  },
  {
   "cell_type": "raw",
   "id": "891aa752",
   "metadata": {},
   "source": [
    "# Here's a quick breakdown of the above describe table:\n",
    "● count: there are around 99000 rows in the dataset, which is filtered to these columns.\n",
    "● mean:  the average value of these features.(e.g average age is 37, avg friend_count is 196 etc.)\n",
    "● std:   measures the dispersion(spread) of a dataset relative to its mean.\n",
    "● min:   the minnimum values in the dataset for these perticular columns.\n",
    "● 25%:   the 25th percentile. 25% of values corresponding to these columns were lower than these stated values(eg. 25% of user's age is less than 20 years).\n",
    "● 50%:   the 50th percentile, or the median.50% of values corresponding to these columns were lower than these stated values.\n",
    "● 75%:   the 75th percentile. 75% of values corresponding to these columns were lower than these stated values.\n",
    "● max:   the maximum :-age, tenure,friend_count,total likes given, total likes_received are:113 ,3139, 4923, 25111, 261197      respectively.   ."
   ]
  },
  {
   "cell_type": "code",
   "execution_count": 8,
   "id": "9240a505",
   "metadata": {},
   "outputs": [
    {
     "data": {
      "text/plain": [
       "userid                     0\n",
       "age                        0\n",
       "dob_day                    0\n",
       "dob_year                   0\n",
       "dob_month                  0\n",
       "gender                   175\n",
       "tenure                     2\n",
       "friend_count               0\n",
       "friendships_initiated      0\n",
       "likes                      0\n",
       "likes_received             0\n",
       "mobile_likes               0\n",
       "mobile_likes_received      0\n",
       "www_likes                  0\n",
       "www_likes_received         0\n",
       "dtype: int64"
      ]
     },
     "execution_count": 8,
     "metadata": {},
     "output_type": "execute_result"
    }
   ],
   "source": [
    "# Checking for null values and we can see gender has-175 null values and tenure has 2. \n",
    "df.isnull().sum()"
   ]
  },
  {
   "cell_type": "code",
   "execution_count": 9,
   "id": "97bd0447",
   "metadata": {},
   "outputs": [
    {
     "data": {
      "text/html": [
       "<div>\n",
       "<style scoped>\n",
       "    .dataframe tbody tr th:only-of-type {\n",
       "        vertical-align: middle;\n",
       "    }\n",
       "\n",
       "    .dataframe tbody tr th {\n",
       "        vertical-align: top;\n",
       "    }\n",
       "\n",
       "    .dataframe thead th {\n",
       "        text-align: right;\n",
       "    }\n",
       "</style>\n",
       "<table border=\"1\" class=\"dataframe\">\n",
       "  <thead>\n",
       "    <tr style=\"text-align: right;\">\n",
       "      <th></th>\n",
       "      <th>userid</th>\n",
       "      <th>age</th>\n",
       "      <th>dob_day</th>\n",
       "      <th>dob_year</th>\n",
       "      <th>dob_month</th>\n",
       "      <th>gender</th>\n",
       "      <th>tenure</th>\n",
       "      <th>friend_count</th>\n",
       "      <th>friendships_initiated</th>\n",
       "      <th>likes</th>\n",
       "      <th>likes_received</th>\n",
       "      <th>mobile_likes</th>\n",
       "      <th>mobile_likes_received</th>\n",
       "      <th>www_likes</th>\n",
       "      <th>www_likes_received</th>\n",
       "    </tr>\n",
       "  </thead>\n",
       "  <tbody>\n",
       "    <tr>\n",
       "      <th>0</th>\n",
       "      <td>2094382</td>\n",
       "      <td>14</td>\n",
       "      <td>19</td>\n",
       "      <td>1999</td>\n",
       "      <td>11</td>\n",
       "      <td>male</td>\n",
       "      <td>266.0</td>\n",
       "      <td>0</td>\n",
       "      <td>0</td>\n",
       "      <td>0</td>\n",
       "      <td>0</td>\n",
       "      <td>0</td>\n",
       "      <td>0</td>\n",
       "      <td>0</td>\n",
       "      <td>0</td>\n",
       "    </tr>\n",
       "    <tr>\n",
       "      <th>1</th>\n",
       "      <td>1192601</td>\n",
       "      <td>14</td>\n",
       "      <td>2</td>\n",
       "      <td>1999</td>\n",
       "      <td>11</td>\n",
       "      <td>female</td>\n",
       "      <td>6.0</td>\n",
       "      <td>0</td>\n",
       "      <td>0</td>\n",
       "      <td>0</td>\n",
       "      <td>0</td>\n",
       "      <td>0</td>\n",
       "      <td>0</td>\n",
       "      <td>0</td>\n",
       "      <td>0</td>\n",
       "    </tr>\n",
       "    <tr>\n",
       "      <th>2</th>\n",
       "      <td>2083884</td>\n",
       "      <td>14</td>\n",
       "      <td>16</td>\n",
       "      <td>1999</td>\n",
       "      <td>11</td>\n",
       "      <td>male</td>\n",
       "      <td>13.0</td>\n",
       "      <td>0</td>\n",
       "      <td>0</td>\n",
       "      <td>0</td>\n",
       "      <td>0</td>\n",
       "      <td>0</td>\n",
       "      <td>0</td>\n",
       "      <td>0</td>\n",
       "      <td>0</td>\n",
       "    </tr>\n",
       "    <tr>\n",
       "      <th>3</th>\n",
       "      <td>1203168</td>\n",
       "      <td>14</td>\n",
       "      <td>25</td>\n",
       "      <td>1999</td>\n",
       "      <td>12</td>\n",
       "      <td>female</td>\n",
       "      <td>93.0</td>\n",
       "      <td>0</td>\n",
       "      <td>0</td>\n",
       "      <td>0</td>\n",
       "      <td>0</td>\n",
       "      <td>0</td>\n",
       "      <td>0</td>\n",
       "      <td>0</td>\n",
       "      <td>0</td>\n",
       "    </tr>\n",
       "    <tr>\n",
       "      <th>4</th>\n",
       "      <td>1733186</td>\n",
       "      <td>14</td>\n",
       "      <td>4</td>\n",
       "      <td>1999</td>\n",
       "      <td>12</td>\n",
       "      <td>male</td>\n",
       "      <td>82.0</td>\n",
       "      <td>0</td>\n",
       "      <td>0</td>\n",
       "      <td>0</td>\n",
       "      <td>0</td>\n",
       "      <td>0</td>\n",
       "      <td>0</td>\n",
       "      <td>0</td>\n",
       "      <td>0</td>\n",
       "    </tr>\n",
       "  </tbody>\n",
       "</table>\n",
       "</div>"
      ],
      "text/plain": [
       "    userid  age  dob_day  dob_year  dob_month  gender  tenure  friend_count  \\\n",
       "0  2094382   14       19      1999         11    male   266.0             0   \n",
       "1  1192601   14        2      1999         11  female     6.0             0   \n",
       "2  2083884   14       16      1999         11    male    13.0             0   \n",
       "3  1203168   14       25      1999         12  female    93.0             0   \n",
       "4  1733186   14        4      1999         12    male    82.0             0   \n",
       "\n",
       "   friendships_initiated  likes  likes_received  mobile_likes  \\\n",
       "0                      0      0               0             0   \n",
       "1                      0      0               0             0   \n",
       "2                      0      0               0             0   \n",
       "3                      0      0               0             0   \n",
       "4                      0      0               0             0   \n",
       "\n",
       "   mobile_likes_received  www_likes  www_likes_received  \n",
       "0                      0          0                   0  \n",
       "1                      0          0                   0  \n",
       "2                      0          0                   0  \n",
       "3                      0          0                   0  \n",
       "4                      0          0                   0  "
      ]
     },
     "execution_count": 9,
     "metadata": {},
     "output_type": "execute_result"
    }
   ],
   "source": [
    "# looking at first 5 rows of the dataset\n",
    "df.head()"
   ]
  },
  {
   "cell_type": "code",
   "execution_count": 10,
   "id": "dffc8a27",
   "metadata": {},
   "outputs": [
    {
     "name": "stdout",
     "output_type": "stream",
     "text": [
      "<class 'pandas.core.frame.DataFrame'>\n",
      "RangeIndex: 99003 entries, 0 to 99002\n",
      "Data columns (total 15 columns):\n",
      " #   Column                 Non-Null Count  Dtype  \n",
      "---  ------                 --------------  -----  \n",
      " 0   userid                 99003 non-null  int64  \n",
      " 1   age                    99003 non-null  int64  \n",
      " 2   dob_day                99003 non-null  int64  \n",
      " 3   dob_year               99003 non-null  int64  \n",
      " 4   dob_month              99003 non-null  int64  \n",
      " 5   gender                 98828 non-null  object \n",
      " 6   tenure                 99001 non-null  float64\n",
      " 7   friend_count           99003 non-null  int64  \n",
      " 8   friendships_initiated  99003 non-null  int64  \n",
      " 9   likes                  99003 non-null  int64  \n",
      " 10  likes_received         99003 non-null  int64  \n",
      " 11  mobile_likes           99003 non-null  int64  \n",
      " 12  mobile_likes_received  99003 non-null  int64  \n",
      " 13  www_likes              99003 non-null  int64  \n",
      " 14  www_likes_received     99003 non-null  int64  \n",
      "dtypes: float64(1), int64(13), object(1)\n",
      "memory usage: 11.3+ MB\n"
     ]
    }
   ],
   "source": [
    "# quick info of the data\n",
    "df.info()"
   ]
  },
  {
   "cell_type": "markdown",
   "id": "77c4d0b9",
   "metadata": {},
   "source": [
    "1) Load the data and impute missing values"
   ]
  },
  {
   "cell_type": "code",
   "execution_count": 11,
   "id": "aa857b7a",
   "metadata": {},
   "outputs": [
    {
     "data": {
      "text/plain": [
       "<AxesSubplot:xlabel='tenure'>"
      ]
     },
     "execution_count": 11,
     "metadata": {},
     "output_type": "execute_result"
    },
    {
     "data": {
      "image/png": "[encoded data removed]",
      "text/plain": [
       "<Figure size 432x288 with 1 Axes>"
      ]
     },
     "metadata": {
      "needs_background": "light"
     },
     "output_type": "display_data"
    }
   ],
   "source": [
    "# Checking Data Distribution for 'Tenure' by ploting boxplot\n",
    "sns.boxplot(df.tenure)"
   ]
  },
  {
   "cell_type": "code",
   "execution_count": 12,
   "id": "635fb513",
   "metadata": {},
   "outputs": [
    {
     "data": {
      "text/plain": [
       "<AxesSubplot:xlabel='tenure', ylabel='Density'>"
      ]
     },
     "execution_count": 12,
     "metadata": {},
     "output_type": "execute_result"
    },
    {
     "data": {
      "image/png": "[encoded data removed]",
      "text/plain": [
       "<Figure size 432x288 with 1 Axes>"
      ]
     },
     "metadata": {
      "needs_background": "light"
     },
     "output_type": "display_data"
    }
   ],
   "source": [
    "# Checking Data Distribution for 'Tenure' by ploting distribution plot\n",
    "sns.distplot(df.tenure)"
   ]
  },
  {
   "cell_type": "raw",
   "id": "4fe4b994",
   "metadata": {},
   "source": [
    "As from the above disttribution plot we can easily conclude that it is Right-skewed b/c :\n",
    "For a normal distribution, 68% of the observations are within +/- one standard deviation of the mean, 95% are within +/- two standard deviations, and 99.7% are within +- three standard deviations."
   ]
  },
  {
   "cell_type": "raw",
   "id": "6db20740",
   "metadata": {},
   "source": [
    "skewness of data:\n",
    "Data are skewed right when most of the data are on the left side of the graph and the long skinny tail extends to the right.\n",
    "Data are skewed left when most of the data are on the right side of the graph and the long skinny tail extends to the left."
   ]
  },
  {
   "cell_type": "code",
   "execution_count": 13,
   "id": "65c663e4",
   "metadata": {},
   "outputs": [],
   "source": [
    "#tenure imputation with median as it is right-skwed\n",
    "df['tenure'].fillna(df['tenure'].median() , inplace=True)"
   ]
  },
  {
   "cell_type": "code",
   "execution_count": 14,
   "id": "8ca92109",
   "metadata": {},
   "outputs": [],
   "source": [
    "#imputing with mode b/c it is a catagorical value\n",
    "df['gender'].fillna(df['gender'].mode()[0] , inplace=True) "
   ]
  },
  {
   "cell_type": "code",
   "execution_count": 15,
   "id": "64d58ada",
   "metadata": {},
   "outputs": [
    {
     "data": {
      "text/plain": [
       "userid                   0\n",
       "age                      0\n",
       "dob_day                  0\n",
       "dob_year                 0\n",
       "dob_month                0\n",
       "gender                   0\n",
       "tenure                   0\n",
       "friend_count             0\n",
       "friendships_initiated    0\n",
       "likes                    0\n",
       "likes_received           0\n",
       "mobile_likes             0\n",
       "mobile_likes_received    0\n",
       "www_likes                0\n",
       "www_likes_received       0\n",
       "dtype: int64"
      ]
     },
     "execution_count": 15,
     "metadata": {},
     "output_type": "execute_result"
    }
   ],
   "source": [
    "# Now after imputing the values we have zero null values.\n",
    "df.isnull().sum()"
   ]
  },
  {
   "cell_type": "code",
   "execution_count": 16,
   "id": "d8dce5f6",
   "metadata": {},
   "outputs": [
    {
     "data": {
      "text/plain": [
       "(99003, 15)"
      ]
     },
     "execution_count": 16,
     "metadata": {},
     "output_type": "execute_result"
    }
   ],
   "source": [
    "df.shape"
   ]
  },
  {
   "cell_type": "markdown",
   "id": "6049b4af",
   "metadata": {},
   "source": [
    "Checking for outliers"
   ]
  },
  {
   "cell_type": "code",
   "execution_count": 17,
   "id": "ebbff9b9",
   "metadata": {},
   "outputs": [
    {
     "data": {
      "text/plain": [
       "<AxesSubplot:>"
      ]
     },
     "execution_count": 17,
     "metadata": {},
     "output_type": "execute_result"
    },
    {
     "data": {
      "image/png": "[encoded data removed]",
      "text/plain": [
       "<Figure size 1008x504 with 1 Axes>"
      ]
     },
     "metadata": {
      "needs_background": "light"
     },
     "output_type": "display_data"
    }
   ],
   "source": [
    "# As we can se there are very few values which are greater than 50k and they may distort the model accuracy in future , so we will remove them.\n",
    "df.boxplot(column=['age','tenure','friend_count','friendships_initiated','likes','likes_received','mobile_likes','mobile_likes_received','www_likes','www_likes_received'], figsize=(14, 7))    "
   ]
  },
  {
   "cell_type": "code",
   "execution_count": 18,
   "id": "4563ad35",
   "metadata": {},
   "outputs": [],
   "source": [
    "# removing values greater than 50000\n",
    "df = df[df['likes_received'] <= 50000]\n",
    "df = df[df['mobile_likes'] <= 50000]\n",
    "df = df[df['mobile_likes_received'] <= 50000]\n",
    "df = df[df['www_likes'] <= 50000]\n",
    "df = df[df['www_likes_received'] <= 50000]\n",
    "\n",
    "# df = df[df[['likes_received','mobile_likes','mobile_likes_received','www_likes','www_likes_received']] <= 50000]"
   ]
  },
  {
   "cell_type": "code",
   "execution_count": 19,
   "id": "af4cc720",
   "metadata": {},
   "outputs": [
    {
     "data": {
      "text/plain": [
       "<AxesSubplot:>"
      ]
     },
     "execution_count": 19,
     "metadata": {},
     "output_type": "execute_result"
    },
    {
     "data": {
      "image/png": "[encoded data removed]",
      "text/plain": [
       "<Figure size 1008x504 with 1 Axes>"
      ]
     },
     "metadata": {
      "needs_background": "light"
     },
     "output_type": "display_data"
    }
   ],
   "source": [
    "df.boxplot(column=['likes','likes_received','mobile_likes','mobile_likes_received','www_likes','www_likes_received'], figsize=(14, 7))"
   ]
  },
  {
   "cell_type": "code",
   "execution_count": 20,
   "id": "c9022dcd",
   "metadata": {},
   "outputs": [
    {
     "data": {
      "text/plain": [
       "<AxesSubplot:>"
      ]
     },
     "execution_count": 20,
     "metadata": {},
     "output_type": "execute_result"
    },
    {
     "data": {
      "image/png": "[encoded data removed]",
      "text/plain": [
       "<Figure size 432x288 with 1 Axes>"
      ]
     },
     "metadata": {
      "needs_background": "light"
     },
     "output_type": "display_data"
    }
   ],
   "source": [
    "# checking outliers for age\n",
    "df.boxplot(column=['age'])"
   ]
  },
  {
   "cell_type": "code",
   "execution_count": 21,
   "id": "fd4c3ff6",
   "metadata": {},
   "outputs": [],
   "source": [
    "# removing users having age greater than 90 b/c they don't affect the model much as they are few in numbers\n",
    "df = df[df['age'] <= 90]"
   ]
  },
  {
   "cell_type": "code",
   "execution_count": 22,
   "id": "eea515c7",
   "metadata": {},
   "outputs": [
    {
     "data": {
      "text/plain": [
       "<AxesSubplot:>"
      ]
     },
     "execution_count": 22,
     "metadata": {},
     "output_type": "execute_result"
    },
    {
     "data": {
      "image/png": "[encoded data removed]",
      "text/plain": [
       "<Figure size 432x288 with 1 Axes>"
      ]
     },
     "metadata": {
      "needs_background": "light"
     },
     "output_type": "display_data"
    }
   ],
   "source": [
    "df.boxplot(column=['age']) #93280-shape 93273- 94090"
   ]
  },
  {
   "cell_type": "code",
   "execution_count": 23,
   "id": "08c326e9",
   "metadata": {},
   "outputs": [
    {
     "data": {
      "text/plain": [
       "(94090, 15)"
      ]
     },
     "execution_count": 23,
     "metadata": {},
     "output_type": "execute_result"
    }
   ],
   "source": [
    "df.shape"
   ]
  },
  {
   "cell_type": "markdown",
   "id": "11ff55c0",
   "metadata": {},
   "source": [
    "Data manipulation and Feature Engineering"
   ]
  },
  {
   "cell_type": "raw",
   "id": "61070251",
   "metadata": {},
   "source": [
    "Dividing the age into several age groups and creating relavent features\n",
    "Defining the dataset with respective age groups:\n",
    "Youth - less than equal to 30 years old\n",
    "Millennials - from 30-50 years old\n",
    "Boomers     - from 50-70 years old\n",
    "Post_War    - from 70-90 years old"
   ]
  },
  {
   "cell_type": "code",
   "execution_count": 24,
   "id": "89cfc7c1",
   "metadata": {},
   "outputs": [],
   "source": [
    "df['Youth'] = df.age.apply(lambda x:1 if x<=30 else 0)\n",
    "df['Millennials'] = df.age.apply(lambda x:1 if 30<x<=50 else 0)\n",
    "df['Boomers'] = df.age.apply(lambda x:1 if 50<x<=70 else 0)\n",
    "df['Post_War'] = df.age.apply(lambda x:1 if 70<x<=90 else 0)"
   ]
  },
  {
   "cell_type": "markdown",
   "id": "14f3c6cf",
   "metadata": {},
   "source": [
    "For numeric data"
   ]
  },
  {
   "cell_type": "raw",
   "id": "f48beae9",
   "metadata": {},
   "source": [
    "Made histograms to understand distributions\n",
    "Corrplot\n",
    "Pivot table comparing survival rate across numeric variables"
   ]
  },
  {
   "cell_type": "markdown",
   "id": "eb8a55e1",
   "metadata": {},
   "source": [
    "For Categorical Data"
   ]
  },
  {
   "cell_type": "raw",
   "id": "00fad62d",
   "metadata": {},
   "source": [
    "Made bar charts to understand balance of classes\n",
    "Made pivot tables to understand relationship with gender catagory and other numerical features."
   ]
  },
  {
   "cell_type": "code",
   "execution_count": 25,
   "id": "7efe31fc",
   "metadata": {},
   "outputs": [],
   "source": [
    "# Defining Catagorical features\n",
    "df_cat = df[['gender','Youth','Millennials','Boomers','Post_War']]\n",
    "# Defining Numerical features\n",
    "df_num = df[['age','tenure','friend_count','friendships_initiated','likes','likes_received','mobile_likes','mobile_likes_received','www_likes','www_likes_received']]"
   ]
  },
  {
   "cell_type": "markdown",
   "id": "58edccdc",
   "metadata": {},
   "source": [
    "2) Plot heatmap / correlation matrix on all the columns"
   ]
  },
  {
   "cell_type": "code",
   "execution_count": 26,
   "id": "151e04a0",
   "metadata": {},
   "outputs": [
    {
     "data": {
      "image/png": "[encoded data removed]",
      "text/plain": [
       "<Figure size 432x288 with 1 Axes>"
      ]
     },
     "metadata": {
      "needs_background": "light"
     },
     "output_type": "display_data"
    },
    {
     "data": {
      "image/png": "[encoded data removed]",
      "text/plain": [
       "<Figure size 432x288 with 1 Axes>"
      ]
     },
     "metadata": {
      "needs_background": "light"
     },
     "output_type": "display_data"
    },
    {
     "data": {
      "image/png": "[encoded data removed]",
      "text/plain": [
       "<Figure size 432x288 with 1 Axes>"
      ]
     },
     "metadata": {
      "needs_background": "light"
     },
     "output_type": "display_data"
    },
    {
     "data": {
      "image/png": "[encoded data removed]",
      "text/plain": [
       "<Figure size 432x288 with 1 Axes>"
      ]
     },
     "metadata": {
      "needs_background": "light"
     },
     "output_type": "display_data"
    },
    {
     "data": {
      "image/png": "[encoded data removed]",
      "text/plain": [
       "<Figure size 432x288 with 1 Axes>"
      ]
     },
     "metadata": {
      "needs_background": "light"
     },
     "output_type": "display_data"
    },
    {
     "data": {
      "image/png": "[encoded data removed]",
      "text/plain": [
       "<Figure size 432x288 with 1 Axes>"
      ]
     },
     "metadata": {
      "needs_background": "light"
     },
     "output_type": "display_data"
    },
    {
     "data": {
      "image/png": "[encoded data removed]",
      "text/plain": [
       "<Figure size 432x288 with 1 Axes>"
      ]
     },
     "metadata": {
      "needs_background": "light"
     },
     "output_type": "display_data"
    },
    {
     "data": {
      "image/png": "[encoded data removed]",
      "text/plain": [
       "<Figure size 432x288 with 1 Axes>"
      ]
     },
     "metadata": {
      "needs_background": "light"
     },
     "output_type": "display_data"
    },
    {
     "data": {
      "image/png": "[encoded data removed]",
      "text/plain": [
       "<Figure size 432x288 with 1 Axes>"
      ]
     },
     "metadata": {
      "needs_background": "light"
     },
     "output_type": "display_data"
    },
    {
     "data": {
      "image/png": "[encoded data removed]",
      "text/plain": [
       "<Figure size 432x288 with 1 Axes>"
      ]
     },
     "metadata": {
      "needs_background": "light"
     },
     "output_type": "display_data"
    }
   ],
   "source": [
    "#distributions for all numeric variables \n",
    "for i in df_num.columns:\n",
    "    plt.hist(df_num[i])\n",
    "    plt.title(i)\n",
    "    plt.show()"
   ]
  },
  {
   "cell_type": "code",
   "execution_count": 27,
   "id": "d3efee98",
   "metadata": {},
   "outputs": [
    {
     "data": {
      "text/html": [
       "<div>\n",
       "<style scoped>\n",
       "    .dataframe tbody tr th:only-of-type {\n",
       "        vertical-align: middle;\n",
       "    }\n",
       "\n",
       "    .dataframe tbody tr th {\n",
       "        vertical-align: top;\n",
       "    }\n",
       "\n",
       "    .dataframe thead th {\n",
       "        text-align: right;\n",
       "    }\n",
       "</style>\n",
       "<table border=\"1\" class=\"dataframe\">\n",
       "  <thead>\n",
       "    <tr style=\"text-align: right;\">\n",
       "      <th></th>\n",
       "      <th>age</th>\n",
       "      <th>tenure</th>\n",
       "      <th>friend_count</th>\n",
       "      <th>friendships_initiated</th>\n",
       "      <th>likes</th>\n",
       "      <th>likes_received</th>\n",
       "      <th>mobile_likes</th>\n",
       "      <th>mobile_likes_received</th>\n",
       "      <th>www_likes</th>\n",
       "      <th>www_likes_received</th>\n",
       "    </tr>\n",
       "  </thead>\n",
       "  <tbody>\n",
       "    <tr>\n",
       "      <th>age</th>\n",
       "      <td>1.000000</td>\n",
       "      <td>0.406893</td>\n",
       "      <td>-0.151008</td>\n",
       "      <td>-0.176141</td>\n",
       "      <td>-0.016628</td>\n",
       "      <td>-0.049414</td>\n",
       "      <td>-0.031845</td>\n",
       "      <td>-0.056368</td>\n",
       "      <td>0.016163</td>\n",
       "      <td>-0.032532</td>\n",
       "    </tr>\n",
       "    <tr>\n",
       "      <th>tenure</th>\n",
       "      <td>0.406893</td>\n",
       "      <td>1.000000</td>\n",
       "      <td>0.141175</td>\n",
       "      <td>0.111912</td>\n",
       "      <td>0.064040</td>\n",
       "      <td>0.067679</td>\n",
       "      <td>0.034294</td>\n",
       "      <td>0.058620</td>\n",
       "      <td>0.074771</td>\n",
       "      <td>0.069074</td>\n",
       "    </tr>\n",
       "    <tr>\n",
       "      <th>friend_count</th>\n",
       "      <td>-0.151008</td>\n",
       "      <td>0.141175</td>\n",
       "      <td>1.000000</td>\n",
       "      <td>0.831734</td>\n",
       "      <td>0.308546</td>\n",
       "      <td>0.450663</td>\n",
       "      <td>0.245434</td>\n",
       "      <td>0.442382</td>\n",
       "      <td>0.235869</td>\n",
       "      <td>0.391293</td>\n",
       "    </tr>\n",
       "    <tr>\n",
       "      <th>friendships_initiated</th>\n",
       "      <td>-0.176141</td>\n",
       "      <td>0.111912</td>\n",
       "      <td>0.831734</td>\n",
       "      <td>1.000000</td>\n",
       "      <td>0.293173</td>\n",
       "      <td>0.355394</td>\n",
       "      <td>0.236549</td>\n",
       "      <td>0.349781</td>\n",
       "      <td>0.218930</td>\n",
       "      <td>0.307365</td>\n",
       "    </tr>\n",
       "    <tr>\n",
       "      <th>likes</th>\n",
       "      <td>-0.016628</td>\n",
       "      <td>0.064040</td>\n",
       "      <td>0.308546</td>\n",
       "      <td>0.293173</td>\n",
       "      <td>1.000000</td>\n",
       "      <td>0.629483</td>\n",
       "      <td>0.870918</td>\n",
       "      <td>0.619494</td>\n",
       "      <td>0.647419</td>\n",
       "      <td>0.544474</td>\n",
       "    </tr>\n",
       "    <tr>\n",
       "      <th>likes_received</th>\n",
       "      <td>-0.049414</td>\n",
       "      <td>0.067679</td>\n",
       "      <td>0.450663</td>\n",
       "      <td>0.355394</td>\n",
       "      <td>0.629483</td>\n",
       "      <td>1.000000</td>\n",
       "      <td>0.487553</td>\n",
       "      <td>0.949604</td>\n",
       "      <td>0.501637</td>\n",
       "      <td>0.910502</td>\n",
       "    </tr>\n",
       "    <tr>\n",
       "      <th>mobile_likes</th>\n",
       "      <td>-0.031845</td>\n",
       "      <td>0.034294</td>\n",
       "      <td>0.245434</td>\n",
       "      <td>0.236549</td>\n",
       "      <td>0.870918</td>\n",
       "      <td>0.487553</td>\n",
       "      <td>1.000000</td>\n",
       "      <td>0.537852</td>\n",
       "      <td>0.189313</td>\n",
       "      <td>0.345150</td>\n",
       "    </tr>\n",
       "    <tr>\n",
       "      <th>mobile_likes_received</th>\n",
       "      <td>-0.056368</td>\n",
       "      <td>0.058620</td>\n",
       "      <td>0.442382</td>\n",
       "      <td>0.349781</td>\n",
       "      <td>0.619494</td>\n",
       "      <td>0.949604</td>\n",
       "      <td>0.537852</td>\n",
       "      <td>1.000000</td>\n",
       "      <td>0.403671</td>\n",
       "      <td>0.735004</td>\n",
       "    </tr>\n",
       "    <tr>\n",
       "      <th>www_likes</th>\n",
       "      <td>0.016163</td>\n",
       "      <td>0.074771</td>\n",
       "      <td>0.235869</td>\n",
       "      <td>0.218930</td>\n",
       "      <td>0.647419</td>\n",
       "      <td>0.501637</td>\n",
       "      <td>0.189313</td>\n",
       "      <td>0.403671</td>\n",
       "      <td>1.000000</td>\n",
       "      <td>0.552627</td>\n",
       "    </tr>\n",
       "    <tr>\n",
       "      <th>www_likes_received</th>\n",
       "      <td>-0.032532</td>\n",
       "      <td>0.069074</td>\n",
       "      <td>0.391293</td>\n",
       "      <td>0.307365</td>\n",
       "      <td>0.544474</td>\n",
       "      <td>0.910502</td>\n",
       "      <td>0.345150</td>\n",
       "      <td>0.735004</td>\n",
       "      <td>0.552627</td>\n",
       "      <td>1.000000</td>\n",
       "    </tr>\n",
       "  </tbody>\n",
       "</table>\n",
       "</div>"
      ],
      "text/plain": [
       "                            age    tenure  friend_count  \\\n",
       "age                    1.000000  0.406893     -0.151008   \n",
       "tenure                 0.406893  1.000000      0.141175   \n",
       "friend_count          -0.151008  0.141175      1.000000   \n",
       "friendships_initiated -0.176141  0.111912      0.831734   \n",
       "likes                 -0.016628  0.064040      0.308546   \n",
       "likes_received        -0.049414  0.067679      0.450663   \n",
       "mobile_likes          -0.031845  0.034294      0.245434   \n",
       "mobile_likes_received -0.056368  0.058620      0.442382   \n",
       "www_likes              0.016163  0.074771      0.235869   \n",
       "www_likes_received    -0.032532  0.069074      0.391293   \n",
       "\n",
       "                       friendships_initiated     likes  likes_received  \\\n",
       "age                                -0.176141 -0.016628       -0.049414   \n",
       "tenure                              0.111912  0.064040        0.067679   \n",
       "friend_count                        0.831734  0.308546        0.450663   \n",
       "friendships_initiated               1.000000  0.293173        0.355394   \n",
       "likes                               0.293173  1.000000        0.629483   \n",
       "likes_received                      0.355394  0.629483        1.000000   \n",
       "mobile_likes                        0.236549  0.870918        0.487553   \n",
       "mobile_likes_received               0.349781  0.619494        0.949604   \n",
       "www_likes                           0.218930  0.647419        0.501637   \n",
       "www_likes_received                  0.307365  0.544474        0.910502   \n",
       "\n",
       "                       mobile_likes  mobile_likes_received  www_likes  \\\n",
       "age                       -0.031845              -0.056368   0.016163   \n",
       "tenure                     0.034294               0.058620   0.074771   \n",
       "friend_count               0.245434               0.442382   0.235869   \n",
       "friendships_initiated      0.236549               0.349781   0.218930   \n",
       "likes                      0.870918               0.619494   0.647419   \n",
       "likes_received             0.487553               0.949604   0.501637   \n",
       "mobile_likes               1.000000               0.537852   0.189313   \n",
       "mobile_likes_received      0.537852               1.000000   0.403671   \n",
       "www_likes                  0.189313               0.403671   1.000000   \n",
       "www_likes_received         0.345150               0.735004   0.552627   \n",
       "\n",
       "                       www_likes_received  \n",
       "age                             -0.032532  \n",
       "tenure                           0.069074  \n",
       "friend_count                     0.391293  \n",
       "friendships_initiated            0.307365  \n",
       "likes                            0.544474  \n",
       "likes_received                   0.910502  \n",
       "mobile_likes                     0.345150  \n",
       "mobile_likes_received            0.735004  \n",
       "www_likes                        0.552627  \n",
       "www_likes_received               1.000000  "
      ]
     },
     "execution_count": 27,
     "metadata": {},
     "output_type": "execute_result"
    }
   ],
   "source": [
    "# correlation of all the columns w.r.t. each other\n",
    "corr_matrix = pd.DataFrame(df_num.corr())\n",
    "corr_matrix"
   ]
  },
  {
   "cell_type": "code",
   "execution_count": 28,
   "id": "f9fa7b8c",
   "metadata": {},
   "outputs": [
    {
     "data": {
      "text/plain": [
       "<AxesSubplot:>"
      ]
     },
     "execution_count": 28,
     "metadata": {},
     "output_type": "execute_result"
    },
    {
     "data": {
      "image/png": "[encoded data removed]",
      "text/plain": [
       "<Figure size 432x288 with 2 Axes>"
      ]
     },
     "metadata": {
      "needs_background": "light"
     },
     "output_type": "display_data"
    }
   ],
   "source": [
    "sns.heatmap(df_num.corr())"
   ]
  },
  {
   "cell_type": "code",
   "execution_count": 29,
   "id": "2e22487b",
   "metadata": {},
   "outputs": [
    {
     "data": {
      "text/plain": [
       "<AxesSubplot:>"
      ]
     },
     "execution_count": 29,
     "metadata": {},
     "output_type": "execute_result"
    },
    {
     "data": {
      "image/png": "[encoded data removed]",
      "text/plain": [
       "<Figure size 432x288 with 2 Axes>"
      ]
     },
     "metadata": {
      "needs_background": "light"
     },
     "output_type": "display_data"
    }
   ],
   "source": [
    "# Another heatmap with few features for more clearity\n",
    "cmap = sns.diverging_palette(220, 10, as_cmap=True)\n",
    "sns.heatmap(df[['age','tenure','friend_count','friendships_initiated','mobile_likes', 'www_likes']].corr(),vmax=1.0, center=0, cmap=cmap,\n",
    "            square=False, linewidths=.4, cbar_kws={\"shrink\": 0.5})"
   ]
  },
  {
   "cell_type": "code",
   "execution_count": 30,
   "id": "f091c3bc",
   "metadata": {},
   "outputs": [
    {
     "data": {
      "text/html": [
       "<div>\n",
       "<style scoped>\n",
       "    .dataframe tbody tr th:only-of-type {\n",
       "        vertical-align: middle;\n",
       "    }\n",
       "\n",
       "    .dataframe tbody tr th {\n",
       "        vertical-align: top;\n",
       "    }\n",
       "\n",
       "    .dataframe thead th {\n",
       "        text-align: right;\n",
       "    }\n",
       "</style>\n",
       "<table border=\"1\" class=\"dataframe\">\n",
       "  <thead>\n",
       "    <tr style=\"text-align: right;\">\n",
       "      <th></th>\n",
       "      <th>age</th>\n",
       "      <th>friend_count</th>\n",
       "      <th>likes</th>\n",
       "      <th>likes_received</th>\n",
       "      <th>tenure</th>\n",
       "    </tr>\n",
       "    <tr>\n",
       "      <th>gender</th>\n",
       "      <th></th>\n",
       "      <th></th>\n",
       "      <th></th>\n",
       "      <th></th>\n",
       "      <th></th>\n",
       "    </tr>\n",
       "  </thead>\n",
       "  <tbody>\n",
       "    <tr>\n",
       "      <th>female</th>\n",
       "      <td>36.229788</td>\n",
       "      <td>233.217052</td>\n",
       "      <td>263.762409</td>\n",
       "      <td>238.027585</td>\n",
       "      <td>559.997599</td>\n",
       "    </tr>\n",
       "    <tr>\n",
       "      <th>male</th>\n",
       "      <td>32.170928</td>\n",
       "      <td>153.469680</td>\n",
       "      <td>81.970612</td>\n",
       "      <td>62.253801</td>\n",
       "      <td>473.570250</td>\n",
       "    </tr>\n",
       "  </tbody>\n",
       "</table>\n",
       "</div>"
      ],
      "text/plain": [
       "              age  friend_count       likes  likes_received      tenure\n",
       "gender                                                                 \n",
       "female  36.229788    233.217052  263.762409      238.027585  559.997599\n",
       "male    32.170928    153.469680   81.970612       62.253801  473.570250"
      ]
     },
     "execution_count": 30,
     "metadata": {},
     "output_type": "execute_result"
    }
   ],
   "source": [
    "pd.pivot_table(df, index = 'gender', values = ['age','tenure','friend_count','likes','likes_received'])"
   ]
  },
  {
   "cell_type": "code",
   "execution_count": 31,
   "id": "aa5b5277",
   "metadata": {},
   "outputs": [
    {
     "data": {
      "image/png": "[encoded data removed]",
      "text/plain": [
       "<Figure size 432x288 with 1 Axes>"
      ]
     },
     "metadata": {
      "needs_background": "light"
     },
     "output_type": "display_data"
    },
    {
     "data": {
      "image/png": "[encoded data removed]",
      "text/plain": [
       "<Figure size 432x288 with 1 Axes>"
      ]
     },
     "metadata": {
      "needs_background": "light"
     },
     "output_type": "display_data"
    },
    {
     "data": {
      "image/png": "[encoded data removed]",
      "text/plain": [
       "<Figure size 432x288 with 1 Axes>"
      ]
     },
     "metadata": {
      "needs_background": "light"
     },
     "output_type": "display_data"
    },
    {
     "data": {
      "image/png": "[encoded data removed]",
      "text/plain": [
       "<Figure size 432x288 with 1 Axes>"
      ]
     },
     "metadata": {
      "needs_background": "light"
     },
     "output_type": "display_data"
    },
    {
     "data": {
      "image/png": "[encoded data removed]",
      "text/plain": [
       "<Figure size 432x288 with 1 Axes>"
      ]
     },
     "metadata": {
      "needs_background": "light"
     },
     "output_type": "display_data"
    }
   ],
   "source": [
    "for i in df_cat.columns:\n",
    "    sns.barplot(df_cat[i].value_counts().index,df_cat[i].value_counts()).set_title(i)\n",
    "    plt.show()"
   ]
  },
  {
   "cell_type": "code",
   "execution_count": 32,
   "id": "64a9f4b4",
   "metadata": {},
   "outputs": [
    {
     "data": {
      "text/html": [
       "<div>\n",
       "<style scoped>\n",
       "    .dataframe tbody tr th:only-of-type {\n",
       "        vertical-align: middle;\n",
       "    }\n",
       "\n",
       "    .dataframe tbody tr th {\n",
       "        vertical-align: top;\n",
       "    }\n",
       "\n",
       "    .dataframe thead th {\n",
       "        text-align: right;\n",
       "    }\n",
       "</style>\n",
       "<table border=\"1\" class=\"dataframe\">\n",
       "  <thead>\n",
       "    <tr style=\"text-align: right;\">\n",
       "      <th></th>\n",
       "      <th>Boomers</th>\n",
       "      <th>Millennials</th>\n",
       "      <th>Post_War</th>\n",
       "      <th>Youth</th>\n",
       "    </tr>\n",
       "    <tr>\n",
       "      <th>gender</th>\n",
       "      <th></th>\n",
       "      <th></th>\n",
       "      <th></th>\n",
       "      <th></th>\n",
       "    </tr>\n",
       "  </thead>\n",
       "  <tbody>\n",
       "    <tr>\n",
       "      <th>female</th>\n",
       "      <td>0.223916</td>\n",
       "      <td>0.224933</td>\n",
       "      <td>0.042121</td>\n",
       "      <td>0.509030</td>\n",
       "    </tr>\n",
       "    <tr>\n",
       "      <th>male</th>\n",
       "      <td>0.136162</td>\n",
       "      <td>0.230223</td>\n",
       "      <td>0.026035</td>\n",
       "      <td>0.607581</td>\n",
       "    </tr>\n",
       "  </tbody>\n",
       "</table>\n",
       "</div>"
      ],
      "text/plain": [
       "         Boomers  Millennials  Post_War     Youth\n",
       "gender                                           \n",
       "female  0.223916     0.224933  0.042121  0.509030\n",
       "male    0.136162     0.230223  0.026035  0.607581"
      ]
     },
     "execution_count": 32,
     "metadata": {},
     "output_type": "execute_result"
    }
   ],
   "source": [
    "# Percentage of Boomers(age-[50-70]), Millennials([30-50]), Post_War([more than 70]) ,Youth([upto 30]) among female, male gender catagory\n",
    "pd.pivot_table(df, index = 'gender', values = ['Youth','Millennials','Boomers','Post_War'])"
   ]
  },
  {
   "cell_type": "markdown",
   "id": "d399af48",
   "metadata": {},
   "source": [
    "# 3) Analysis based on gender of the users"
   ]
  },
  {
   "cell_type": "code",
   "execution_count": 33,
   "id": "8a45f83d",
   "metadata": {},
   "outputs": [
    {
     "data": {
      "text/html": [
       "<div>\n",
       "<style scoped>\n",
       "    .dataframe tbody tr th:only-of-type {\n",
       "        vertical-align: middle;\n",
       "    }\n",
       "\n",
       "    .dataframe tbody tr th {\n",
       "        vertical-align: top;\n",
       "    }\n",
       "\n",
       "    .dataframe thead th {\n",
       "        text-align: right;\n",
       "    }\n",
       "</style>\n",
       "<table border=\"1\" class=\"dataframe\">\n",
       "  <thead>\n",
       "    <tr style=\"text-align: right;\">\n",
       "      <th></th>\n",
       "      <th>userid</th>\n",
       "      <th>age</th>\n",
       "      <th>dob_day</th>\n",
       "      <th>dob_year</th>\n",
       "      <th>dob_month</th>\n",
       "      <th>tenure</th>\n",
       "      <th>friend_count</th>\n",
       "      <th>friendships_initiated</th>\n",
       "      <th>likes</th>\n",
       "      <th>likes_received</th>\n",
       "      <th>mobile_likes</th>\n",
       "      <th>mobile_likes_received</th>\n",
       "      <th>www_likes</th>\n",
       "      <th>www_likes_received</th>\n",
       "      <th>Youth</th>\n",
       "      <th>Millennials</th>\n",
       "      <th>Boomers</th>\n",
       "      <th>Post_War</th>\n",
       "    </tr>\n",
       "  </thead>\n",
       "  <tbody>\n",
       "    <tr>\n",
       "      <th>count</th>\n",
       "      <td>9.409000e+04</td>\n",
       "      <td>94090.000000</td>\n",
       "      <td>94090.000000</td>\n",
       "      <td>94090.000000</td>\n",
       "      <td>94090.000000</td>\n",
       "      <td>94090.000000</td>\n",
       "      <td>94090.000000</td>\n",
       "      <td>94090.00000</td>\n",
       "      <td>94090.000000</td>\n",
       "      <td>94090.000000</td>\n",
       "      <td>94090.000000</td>\n",
       "      <td>94090.000000</td>\n",
       "      <td>94090.000000</td>\n",
       "      <td>94090.000000</td>\n",
       "      <td>94090.000000</td>\n",
       "      <td>94090.000000</td>\n",
       "      <td>94090.000000</td>\n",
       "      <td>94090.000000</td>\n",
       "    </tr>\n",
       "    <tr>\n",
       "      <th>mean</th>\n",
       "      <td>1.597187e+06</td>\n",
       "      <td>33.823892</td>\n",
       "      <td>14.529068</td>\n",
       "      <td>1979.176108</td>\n",
       "      <td>6.287097</td>\n",
       "      <td>508.767648</td>\n",
       "      <td>185.946668</td>\n",
       "      <td>103.16734</td>\n",
       "      <td>156.005027</td>\n",
       "      <td>133.837390</td>\n",
       "      <td>106.476650</td>\n",
       "      <td>78.644500</td>\n",
       "      <td>49.528313</td>\n",
       "      <td>55.192847</td>\n",
       "      <td>0.567446</td>\n",
       "      <td>0.228069</td>\n",
       "      <td>0.171899</td>\n",
       "      <td>0.032586</td>\n",
       "    </tr>\n",
       "    <tr>\n",
       "      <th>std</th>\n",
       "      <td>3.441226e+05</td>\n",
       "      <td>17.153293</td>\n",
       "      <td>8.992253</td>\n",
       "      <td>17.153293</td>\n",
       "      <td>3.521267</td>\n",
       "      <td>427.932070</td>\n",
       "      <td>371.645301</td>\n",
       "      <td>184.34189</td>\n",
       "      <td>576.650468</td>\n",
       "      <td>673.793377</td>\n",
       "      <td>447.578853</td>\n",
       "      <td>410.899881</td>\n",
       "      <td>288.601497</td>\n",
       "      <td>311.477389</td>\n",
       "      <td>0.495433</td>\n",
       "      <td>0.419589</td>\n",
       "      <td>0.377295</td>\n",
       "      <td>0.177551</td>\n",
       "    </tr>\n",
       "    <tr>\n",
       "      <th>min</th>\n",
       "      <td>1.000008e+06</td>\n",
       "      <td>13.000000</td>\n",
       "      <td>1.000000</td>\n",
       "      <td>1923.000000</td>\n",
       "      <td>1.000000</td>\n",
       "      <td>0.000000</td>\n",
       "      <td>0.000000</td>\n",
       "      <td>0.00000</td>\n",
       "      <td>0.000000</td>\n",
       "      <td>0.000000</td>\n",
       "      <td>0.000000</td>\n",
       "      <td>0.000000</td>\n",
       "      <td>0.000000</td>\n",
       "      <td>0.000000</td>\n",
       "      <td>0.000000</td>\n",
       "      <td>0.000000</td>\n",
       "      <td>0.000000</td>\n",
       "      <td>0.000000</td>\n",
       "    </tr>\n",
       "    <tr>\n",
       "      <th>25%</th>\n",
       "      <td>1.298914e+06</td>\n",
       "      <td>20.000000</td>\n",
       "      <td>7.000000</td>\n",
       "      <td>1967.000000</td>\n",
       "      <td>3.000000</td>\n",
       "      <td>221.000000</td>\n",
       "      <td>29.000000</td>\n",
       "      <td>16.00000</td>\n",
       "      <td>1.000000</td>\n",
       "      <td>0.000000</td>\n",
       "      <td>0.000000</td>\n",
       "      <td>0.000000</td>\n",
       "      <td>0.000000</td>\n",
       "      <td>0.000000</td>\n",
       "      <td>0.000000</td>\n",
       "      <td>0.000000</td>\n",
       "      <td>0.000000</td>\n",
       "      <td>0.000000</td>\n",
       "    </tr>\n",
       "    <tr>\n",
       "      <th>50%</th>\n",
       "      <td>1.596143e+06</td>\n",
       "      <td>27.000000</td>\n",
       "      <td>14.000000</td>\n",
       "      <td>1986.000000</td>\n",
       "      <td>6.000000</td>\n",
       "      <td>399.000000</td>\n",
       "      <td>78.000000</td>\n",
       "      <td>44.00000</td>\n",
       "      <td>10.000000</td>\n",
       "      <td>8.000000</td>\n",
       "      <td>4.000000</td>\n",
       "      <td>4.000000</td>\n",
       "      <td>0.000000</td>\n",
       "      <td>2.000000</td>\n",
       "      <td>1.000000</td>\n",
       "      <td>0.000000</td>\n",
       "      <td>0.000000</td>\n",
       "      <td>0.000000</td>\n",
       "    </tr>\n",
       "    <tr>\n",
       "      <th>75%</th>\n",
       "      <td>1.896004e+06</td>\n",
       "      <td>46.000000</td>\n",
       "      <td>22.000000</td>\n",
       "      <td>1993.000000</td>\n",
       "      <td>9.000000</td>\n",
       "      <td>640.000000</td>\n",
       "      <td>195.000000</td>\n",
       "      <td>111.00000</td>\n",
       "      <td>79.000000</td>\n",
       "      <td>57.000000</td>\n",
       "      <td>45.000000</td>\n",
       "      <td>32.000000</td>\n",
       "      <td>6.000000</td>\n",
       "      <td>19.000000</td>\n",
       "      <td>1.000000</td>\n",
       "      <td>0.000000</td>\n",
       "      <td>0.000000</td>\n",
       "      <td>0.000000</td>\n",
       "    </tr>\n",
       "    <tr>\n",
       "      <th>max</th>\n",
       "      <td>2.193542e+06</td>\n",
       "      <td>90.000000</td>\n",
       "      <td>31.000000</td>\n",
       "      <td>2000.000000</td>\n",
       "      <td>12.000000</td>\n",
       "      <td>2595.000000</td>\n",
       "      <td>4917.000000</td>\n",
       "      <td>4144.00000</td>\n",
       "      <td>25111.000000</td>\n",
       "      <td>45633.000000</td>\n",
       "      <td>25111.000000</td>\n",
       "      <td>30754.000000</td>\n",
       "      <td>14865.000000</td>\n",
       "      <td>29337.000000</td>\n",
       "      <td>1.000000</td>\n",
       "      <td>1.000000</td>\n",
       "      <td>1.000000</td>\n",
       "      <td>1.000000</td>\n",
       "    </tr>\n",
       "  </tbody>\n",
       "</table>\n",
       "</div>"
      ],
      "text/plain": [
       "             userid           age       dob_day      dob_year     dob_month  \\\n",
       "count  9.409000e+04  94090.000000  94090.000000  94090.000000  94090.000000   \n",
       "mean   1.597187e+06     33.823892     14.529068   1979.176108      6.287097   \n",
       "std    3.441226e+05     17.153293      8.992253     17.153293      3.521267   \n",
       "min    1.000008e+06     13.000000      1.000000   1923.000000      1.000000   \n",
       "25%    1.298914e+06     20.000000      7.000000   1967.000000      3.000000   \n",
       "50%    1.596143e+06     27.000000     14.000000   1986.000000      6.000000   \n",
       "75%    1.896004e+06     46.000000     22.000000   1993.000000      9.000000   \n",
       "max    2.193542e+06     90.000000     31.000000   2000.000000     12.000000   \n",
       "\n",
       "             tenure  friend_count  friendships_initiated         likes  \\\n",
       "count  94090.000000  94090.000000            94090.00000  94090.000000   \n",
       "mean     508.767648    185.946668              103.16734    156.005027   \n",
       "std      427.932070    371.645301              184.34189    576.650468   \n",
       "min        0.000000      0.000000                0.00000      0.000000   \n",
       "25%      221.000000     29.000000               16.00000      1.000000   \n",
       "50%      399.000000     78.000000               44.00000     10.000000   \n",
       "75%      640.000000    195.000000              111.00000     79.000000   \n",
       "max     2595.000000   4917.000000             4144.00000  25111.000000   \n",
       "\n",
       "       likes_received  mobile_likes  mobile_likes_received     www_likes  \\\n",
       "count    94090.000000  94090.000000           94090.000000  94090.000000   \n",
       "mean       133.837390    106.476650              78.644500     49.528313   \n",
       "std        673.793377    447.578853             410.899881    288.601497   \n",
       "min          0.000000      0.000000               0.000000      0.000000   \n",
       "25%          0.000000      0.000000               0.000000      0.000000   \n",
       "50%          8.000000      4.000000               4.000000      0.000000   \n",
       "75%         57.000000     45.000000              32.000000      6.000000   \n",
       "max      45633.000000  25111.000000           30754.000000  14865.000000   \n",
       "\n",
       "       www_likes_received         Youth   Millennials       Boomers  \\\n",
       "count        94090.000000  94090.000000  94090.000000  94090.000000   \n",
       "mean            55.192847      0.567446      0.228069      0.171899   \n",
       "std            311.477389      0.495433      0.419589      0.377295   \n",
       "min              0.000000      0.000000      0.000000      0.000000   \n",
       "25%              0.000000      0.000000      0.000000      0.000000   \n",
       "50%              2.000000      1.000000      0.000000      0.000000   \n",
       "75%             19.000000      1.000000      0.000000      0.000000   \n",
       "max          29337.000000      1.000000      1.000000      1.000000   \n",
       "\n",
       "           Post_War  \n",
       "count  94090.000000  \n",
       "mean       0.032586  \n",
       "std        0.177551  \n",
       "min        0.000000  \n",
       "25%        0.000000  \n",
       "50%        0.000000  \n",
       "75%        0.000000  \n",
       "max        1.000000  "
      ]
     },
     "execution_count": 33,
     "metadata": {},
     "output_type": "execute_result"
    }
   ],
   "source": [
    "df.describe()"
   ]
  },
  {
   "cell_type": "markdown",
   "id": "be7026ee",
   "metadata": {},
   "source": [
    "● What is composition of male and female users?"
   ]
  },
  {
   "cell_type": "code",
   "execution_count": 34,
   "id": "e72ce932",
   "metadata": {},
   "outputs": [
    {
     "data": {
      "text/plain": [
       "Index(['userid', 'age', 'dob_day', 'dob_year', 'dob_month', 'gender', 'tenure',\n",
       "       'friend_count', 'friendships_initiated', 'likes', 'likes_received',\n",
       "       'mobile_likes', 'mobile_likes_received', 'www_likes',\n",
       "       'www_likes_received', 'Youth', 'Millennials', 'Boomers', 'Post_War'],\n",
       "      dtype='object')"
      ]
     },
     "execution_count": 34,
     "metadata": {},
     "output_type": "execute_result"
    }
   ],
   "source": [
    "df.columns"
   ]
  },
  {
   "cell_type": "code",
   "execution_count": 35,
   "id": "e0150184",
   "metadata": {},
   "outputs": [
    {
     "data": {
      "text/plain": [
       "male      55772\n",
       "female    38318\n",
       "Name: gender, dtype: int64"
      ]
     },
     "execution_count": 35,
     "metadata": {},
     "output_type": "execute_result"
    }
   ],
   "source": [
    "# Number of males and females\n",
    "df.gender.value_counts()"
   ]
  },
  {
   "cell_type": "markdown",
   "id": "8e4b4a0c",
   "metadata": {},
   "source": [
    "<!-- Encoding our Catagorical feature-Gender -->"
   ]
  },
  {
   "cell_type": "code",
   "execution_count": 36,
   "id": "b2b96508",
   "metadata": {},
   "outputs": [
    {
     "data": {
      "text/html": [
       "<div>\n",
       "<style scoped>\n",
       "    .dataframe tbody tr th:only-of-type {\n",
       "        vertical-align: middle;\n",
       "    }\n",
       "\n",
       "    .dataframe tbody tr th {\n",
       "        vertical-align: top;\n",
       "    }\n",
       "\n",
       "    .dataframe thead th {\n",
       "        text-align: right;\n",
       "    }\n",
       "</style>\n",
       "<table border=\"1\" class=\"dataframe\">\n",
       "  <thead>\n",
       "    <tr style=\"text-align: right;\">\n",
       "      <th></th>\n",
       "      <th>age</th>\n",
       "      <th>tenure</th>\n",
       "      <th>friend_count</th>\n",
       "      <th>likes</th>\n",
       "      <th>likes_received</th>\n",
       "      <th>mobile_likes</th>\n",
       "      <th>www_likes</th>\n",
       "    </tr>\n",
       "  </thead>\n",
       "  <tbody>\n",
       "    <tr>\n",
       "      <th>min</th>\n",
       "      <td>13.000000</td>\n",
       "      <td>0.000000</td>\n",
       "      <td>0.000000</td>\n",
       "      <td>0.000000</td>\n",
       "      <td>0.00000</td>\n",
       "      <td>0.00000</td>\n",
       "      <td>0.000000</td>\n",
       "    </tr>\n",
       "    <tr>\n",
       "      <th>max</th>\n",
       "      <td>90.000000</td>\n",
       "      <td>2595.000000</td>\n",
       "      <td>4917.000000</td>\n",
       "      <td>25111.000000</td>\n",
       "      <td>45633.00000</td>\n",
       "      <td>25111.00000</td>\n",
       "      <td>14865.000000</td>\n",
       "    </tr>\n",
       "    <tr>\n",
       "      <th>median</th>\n",
       "      <td>27.000000</td>\n",
       "      <td>399.000000</td>\n",
       "      <td>78.000000</td>\n",
       "      <td>10.000000</td>\n",
       "      <td>8.00000</td>\n",
       "      <td>4.00000</td>\n",
       "      <td>0.000000</td>\n",
       "    </tr>\n",
       "    <tr>\n",
       "      <th>mean</th>\n",
       "      <td>33.823892</td>\n",
       "      <td>508.767648</td>\n",
       "      <td>185.946668</td>\n",
       "      <td>156.005027</td>\n",
       "      <td>133.83739</td>\n",
       "      <td>106.47665</td>\n",
       "      <td>49.528313</td>\n",
       "    </tr>\n",
       "  </tbody>\n",
       "</table>\n",
       "</div>"
      ],
      "text/plain": [
       "              age       tenure  friend_count         likes  likes_received  \\\n",
       "min     13.000000     0.000000      0.000000      0.000000         0.00000   \n",
       "max     90.000000  2595.000000   4917.000000  25111.000000     45633.00000   \n",
       "median  27.000000   399.000000     78.000000     10.000000         8.00000   \n",
       "mean    33.823892   508.767648    185.946668    156.005027       133.83739   \n",
       "\n",
       "        mobile_likes     www_likes  \n",
       "min          0.00000      0.000000  \n",
       "max      25111.00000  14865.000000  \n",
       "median       4.00000      0.000000  \n",
       "mean       106.47665     49.528313  "
      ]
     },
     "execution_count": 36,
     "metadata": {},
     "output_type": "execute_result"
    }
   ],
   "source": [
    "# quick look at the statistics values\n",
    "df.agg(\n",
    "       { \n",
    "         \"age\": [\"min\", \"max\", \"median\",\"mean\"],\n",
    "         \"tenure\": [\"min\", \"max\", \"median\", \"mean\"],\n",
    "         \"friend_count\": [\"min\", \"max\", \"median\", \"mean\"],\n",
    "         \"likes\": [\"min\", \"max\", \"median\", \"mean\"],\n",
    "         \"likes_received\": [\"min\", \"max\", \"median\", \"mean\"],\n",
    "         \"mobile_likes\": [\"min\", \"max\", \"median\", \"mean\"],\n",
    "        \"www_likes\": [\"min\", \"max\", \"median\", \"mean\"]\n",
    "     }\n",
    " )"
   ]
  },
  {
   "cell_type": "code",
   "execution_count": 37,
   "id": "497e50af",
   "metadata": {},
   "outputs": [
    {
     "data": {
      "text/html": [
       "<div>\n",
       "<style scoped>\n",
       "    .dataframe tbody tr th:only-of-type {\n",
       "        vertical-align: middle;\n",
       "    }\n",
       "\n",
       "    .dataframe tbody tr th {\n",
       "        vertical-align: top;\n",
       "    }\n",
       "\n",
       "    .dataframe thead th {\n",
       "        text-align: right;\n",
       "    }\n",
       "</style>\n",
       "<table border=\"1\" class=\"dataframe\">\n",
       "  <thead>\n",
       "    <tr style=\"text-align: right;\">\n",
       "      <th></th>\n",
       "      <th>userid</th>\n",
       "      <th>age</th>\n",
       "      <th>dob_day</th>\n",
       "      <th>dob_year</th>\n",
       "      <th>dob_month</th>\n",
       "      <th>tenure</th>\n",
       "      <th>friend_count</th>\n",
       "      <th>friendships_initiated</th>\n",
       "      <th>likes</th>\n",
       "      <th>likes_received</th>\n",
       "      <th>mobile_likes</th>\n",
       "      <th>mobile_likes_received</th>\n",
       "      <th>www_likes</th>\n",
       "      <th>www_likes_received</th>\n",
       "      <th>Youth</th>\n",
       "      <th>Millennials</th>\n",
       "      <th>Boomers</th>\n",
       "      <th>Post_War</th>\n",
       "    </tr>\n",
       "    <tr>\n",
       "      <th>gender</th>\n",
       "      <th></th>\n",
       "      <th></th>\n",
       "      <th></th>\n",
       "      <th></th>\n",
       "      <th></th>\n",
       "      <th></th>\n",
       "      <th></th>\n",
       "      <th></th>\n",
       "      <th></th>\n",
       "      <th></th>\n",
       "      <th></th>\n",
       "      <th></th>\n",
       "      <th></th>\n",
       "      <th></th>\n",
       "      <th></th>\n",
       "      <th></th>\n",
       "      <th></th>\n",
       "      <th></th>\n",
       "    </tr>\n",
       "  </thead>\n",
       "  <tbody>\n",
       "    <tr>\n",
       "      <th>female</th>\n",
       "      <td>1.597815e+06</td>\n",
       "      <td>36.229788</td>\n",
       "      <td>15.047054</td>\n",
       "      <td>1976.770212</td>\n",
       "      <td>6.438384</td>\n",
       "      <td>559.997599</td>\n",
       "      <td>233.217052</td>\n",
       "      <td>111.719323</td>\n",
       "      <td>263.762409</td>\n",
       "      <td>238.027585</td>\n",
       "      <td>175.991649</td>\n",
       "      <td>138.403126</td>\n",
       "      <td>87.770656</td>\n",
       "      <td>99.624354</td>\n",
       "      <td>0.509030</td>\n",
       "      <td>0.224933</td>\n",
       "      <td>0.223916</td>\n",
       "      <td>0.042121</td>\n",
       "    </tr>\n",
       "    <tr>\n",
       "      <th>male</th>\n",
       "      <td>1.596755e+06</td>\n",
       "      <td>32.170928</td>\n",
       "      <td>14.173187</td>\n",
       "      <td>1980.829072</td>\n",
       "      <td>6.183156</td>\n",
       "      <td>473.570250</td>\n",
       "      <td>153.469680</td>\n",
       "      <td>97.291723</td>\n",
       "      <td>81.970612</td>\n",
       "      <td>62.253801</td>\n",
       "      <td>58.716560</td>\n",
       "      <td>37.587499</td>\n",
       "      <td>23.254016</td>\n",
       "      <td>24.666302</td>\n",
       "      <td>0.607581</td>\n",
       "      <td>0.230223</td>\n",
       "      <td>0.136162</td>\n",
       "      <td>0.026035</td>\n",
       "    </tr>\n",
       "  </tbody>\n",
       "</table>\n",
       "</div>"
      ],
      "text/plain": [
       "              userid        age    dob_day     dob_year  dob_month  \\\n",
       "gender                                                               \n",
       "female  1.597815e+06  36.229788  15.047054  1976.770212   6.438384   \n",
       "male    1.596755e+06  32.170928  14.173187  1980.829072   6.183156   \n",
       "\n",
       "            tenure  friend_count  friendships_initiated       likes  \\\n",
       "gender                                                                \n",
       "female  559.997599    233.217052             111.719323  263.762409   \n",
       "male    473.570250    153.469680              97.291723   81.970612   \n",
       "\n",
       "        likes_received  mobile_likes  mobile_likes_received  www_likes  \\\n",
       "gender                                                                   \n",
       "female      238.027585    175.991649             138.403126  87.770656   \n",
       "male         62.253801     58.716560              37.587499  23.254016   \n",
       "\n",
       "        www_likes_received     Youth  Millennials   Boomers  Post_War  \n",
       "gender                                                                 \n",
       "female           99.624354  0.509030     0.224933  0.223916  0.042121  \n",
       "male             24.666302  0.607581     0.230223  0.136162  0.026035  "
      ]
     },
     "execution_count": 37,
     "metadata": {},
     "output_type": "execute_result"
    }
   ],
   "source": [
    "# calculating average values of users on basis of their gender for reference \n",
    "df.groupby(['gender']).mean()"
   ]
  },
  {
   "cell_type": "markdown",
   "id": "4896fec3",
   "metadata": {},
   "source": [
    "Which category of gender has more friends?"
   ]
  },
  {
   "cell_type": "code",
   "execution_count": 38,
   "id": "2e988422",
   "metadata": {},
   "outputs": [
    {
     "data": {
      "text/html": [
       "<div>\n",
       "<style scoped>\n",
       "    .dataframe tbody tr th:only-of-type {\n",
       "        vertical-align: middle;\n",
       "    }\n",
       "\n",
       "    .dataframe tbody tr th {\n",
       "        vertical-align: top;\n",
       "    }\n",
       "\n",
       "    .dataframe thead th {\n",
       "        text-align: right;\n",
       "    }\n",
       "</style>\n",
       "<table border=\"1\" class=\"dataframe\">\n",
       "  <thead>\n",
       "    <tr style=\"text-align: right;\">\n",
       "      <th></th>\n",
       "      <th></th>\n",
       "      <th></th>\n",
       "      <th></th>\n",
       "      <th></th>\n",
       "      <th>friend_count</th>\n",
       "    </tr>\n",
       "    <tr>\n",
       "      <th>gender</th>\n",
       "      <th>Youth</th>\n",
       "      <th>Millennials</th>\n",
       "      <th>Boomers</th>\n",
       "      <th>Post_War</th>\n",
       "      <th></th>\n",
       "    </tr>\n",
       "  </thead>\n",
       "  <tbody>\n",
       "    <tr>\n",
       "      <th rowspan=\"4\" valign=\"top\">female</th>\n",
       "      <th rowspan=\"3\" valign=\"top\">0</th>\n",
       "      <th rowspan=\"2\" valign=\"top\">0</th>\n",
       "      <th>0</th>\n",
       "      <th>1</th>\n",
       "      <td>148.134449</td>\n",
       "    </tr>\n",
       "    <tr>\n",
       "      <th>1</th>\n",
       "      <th>0</th>\n",
       "      <td>120.656993</td>\n",
       "    </tr>\n",
       "    <tr>\n",
       "      <th>1</th>\n",
       "      <th>0</th>\n",
       "      <th>0</th>\n",
       "      <td>125.605059</td>\n",
       "    </tr>\n",
       "    <tr>\n",
       "      <th>1</th>\n",
       "      <th>0</th>\n",
       "      <th>0</th>\n",
       "      <th>0</th>\n",
       "      <td>337.323507</td>\n",
       "    </tr>\n",
       "    <tr>\n",
       "      <th rowspan=\"4\" valign=\"top\">male</th>\n",
       "      <th rowspan=\"3\" valign=\"top\">0</th>\n",
       "      <th rowspan=\"2\" valign=\"top\">0</th>\n",
       "      <th>0</th>\n",
       "      <th>1</th>\n",
       "      <td>187.473829</td>\n",
       "    </tr>\n",
       "    <tr>\n",
       "      <th>1</th>\n",
       "      <th>0</th>\n",
       "      <td>117.945878</td>\n",
       "    </tr>\n",
       "    <tr>\n",
       "      <th>1</th>\n",
       "      <th>0</th>\n",
       "      <th>0</th>\n",
       "      <td>92.313162</td>\n",
       "    </tr>\n",
       "    <tr>\n",
       "      <th>1</th>\n",
       "      <th>0</th>\n",
       "      <th>0</th>\n",
       "      <th>0</th>\n",
       "      <td>183.146934</td>\n",
       "    </tr>\n",
       "  </tbody>\n",
       "</table>\n",
       "</div>"
      ],
      "text/plain": [
       "                                           friend_count\n",
       "gender Youth Millennials Boomers Post_War              \n",
       "female 0     0           0       1           148.134449\n",
       "                         1       0           120.656993\n",
       "             1           0       0           125.605059\n",
       "       1     0           0       0           337.323507\n",
       "male   0     0           0       1           187.473829\n",
       "                         1       0           117.945878\n",
       "             1           0       0            92.313162\n",
       "       1     0           0       0           183.146934"
      ]
     },
     "execution_count": 38,
     "metadata": {},
     "output_type": "execute_result"
    }
   ],
   "source": [
    "# We can see from the table that Female-Youth catagory has the highest friend_count and Male-Millennials has least\n",
    "pd.pivot_table(df, index=['gender','Youth','Millennials','Boomers','Post_War'] ,values = ['friend_count'])"
   ]
  },
  {
   "cell_type": "markdown",
   "id": "23426445",
   "metadata": {},
   "source": [
    "Which category of gender initiated more friendships?"
   ]
  },
  {
   "cell_type": "code",
   "execution_count": 39,
   "id": "a66b834e",
   "metadata": {},
   "outputs": [
    {
     "data": {
      "text/html": [
       "<div>\n",
       "<style scoped>\n",
       "    .dataframe tbody tr th:only-of-type {\n",
       "        vertical-align: middle;\n",
       "    }\n",
       "\n",
       "    .dataframe tbody tr th {\n",
       "        vertical-align: top;\n",
       "    }\n",
       "\n",
       "    .dataframe thead th {\n",
       "        text-align: right;\n",
       "    }\n",
       "</style>\n",
       "<table border=\"1\" class=\"dataframe\">\n",
       "  <thead>\n",
       "    <tr style=\"text-align: right;\">\n",
       "      <th></th>\n",
       "      <th></th>\n",
       "      <th></th>\n",
       "      <th></th>\n",
       "      <th></th>\n",
       "      <th>friendships_initiated</th>\n",
       "    </tr>\n",
       "    <tr>\n",
       "      <th>gender</th>\n",
       "      <th>Youth</th>\n",
       "      <th>Millennials</th>\n",
       "      <th>Boomers</th>\n",
       "      <th>Post_War</th>\n",
       "      <th></th>\n",
       "    </tr>\n",
       "  </thead>\n",
       "  <tbody>\n",
       "    <tr>\n",
       "      <th rowspan=\"4\" valign=\"top\">female</th>\n",
       "      <th rowspan=\"3\" valign=\"top\">0</th>\n",
       "      <th rowspan=\"2\" valign=\"top\">0</th>\n",
       "      <th>0</th>\n",
       "      <th>1</th>\n",
       "      <td>65.798017</td>\n",
       "    </tr>\n",
       "    <tr>\n",
       "      <th>1</th>\n",
       "      <th>0</th>\n",
       "      <td>63.031002</td>\n",
       "    </tr>\n",
       "    <tr>\n",
       "      <th>1</th>\n",
       "      <th>0</th>\n",
       "      <th>0</th>\n",
       "      <td>70.051166</td>\n",
       "    </tr>\n",
       "    <tr>\n",
       "      <th>1</th>\n",
       "      <th>0</th>\n",
       "      <th>0</th>\n",
       "      <th>0</th>\n",
       "      <td>155.349193</td>\n",
       "    </tr>\n",
       "    <tr>\n",
       "      <th rowspan=\"4\" valign=\"top\">male</th>\n",
       "      <th rowspan=\"3\" valign=\"top\">0</th>\n",
       "      <th rowspan=\"2\" valign=\"top\">0</th>\n",
       "      <th>0</th>\n",
       "      <th>1</th>\n",
       "      <td>91.732782</td>\n",
       "    </tr>\n",
       "    <tr>\n",
       "      <th>1</th>\n",
       "      <th>0</th>\n",
       "      <td>64.744930</td>\n",
       "    </tr>\n",
       "    <tr>\n",
       "      <th>1</th>\n",
       "      <th>0</th>\n",
       "      <th>0</th>\n",
       "      <td>55.102414</td>\n",
       "    </tr>\n",
       "    <tr>\n",
       "      <th>1</th>\n",
       "      <th>0</th>\n",
       "      <th>0</th>\n",
       "      <th>0</th>\n",
       "      <td>120.810069</td>\n",
       "    </tr>\n",
       "  </tbody>\n",
       "</table>\n",
       "</div>"
      ],
      "text/plain": [
       "                                           friendships_initiated\n",
       "gender Youth Millennials Boomers Post_War                       \n",
       "female 0     0           0       1                     65.798017\n",
       "                         1       0                     63.031002\n",
       "             1           0       0                     70.051166\n",
       "       1     0           0       0                    155.349193\n",
       "male   0     0           0       1                     91.732782\n",
       "                         1       0                     64.744930\n",
       "             1           0       0                     55.102414\n",
       "       1     0           0       0                    120.810069"
      ]
     },
     "execution_count": 39,
     "metadata": {},
     "output_type": "execute_result"
    }
   ],
   "source": [
    "# We can see from the table that Female-Youth catagory has the highest friendships_initiated\n",
    "pd.pivot_table(df, index=['gender','Youth','Millennials','Boomers','Post_War'] ,values = 'friendships_initiated')"
   ]
  },
  {
   "cell_type": "markdown",
   "id": "b01625f4",
   "metadata": {},
   "source": [
    "What is the distribution of tenure across different categories of gender?"
   ]
  },
  {
   "cell_type": "code",
   "execution_count": 40,
   "id": "8e0861f9",
   "metadata": {},
   "outputs": [
    {
     "data": {
      "text/html": [
       "<div>\n",
       "<style scoped>\n",
       "    .dataframe tbody tr th:only-of-type {\n",
       "        vertical-align: middle;\n",
       "    }\n",
       "\n",
       "    .dataframe tbody tr th {\n",
       "        vertical-align: top;\n",
       "    }\n",
       "\n",
       "    .dataframe thead th {\n",
       "        text-align: right;\n",
       "    }\n",
       "</style>\n",
       "<table border=\"1\" class=\"dataframe\">\n",
       "  <thead>\n",
       "    <tr style=\"text-align: right;\">\n",
       "      <th></th>\n",
       "      <th></th>\n",
       "      <th></th>\n",
       "      <th></th>\n",
       "      <th></th>\n",
       "      <th>tenure</th>\n",
       "    </tr>\n",
       "    <tr>\n",
       "      <th>gender</th>\n",
       "      <th>Youth</th>\n",
       "      <th>Millennials</th>\n",
       "      <th>Boomers</th>\n",
       "      <th>Post_War</th>\n",
       "      <th></th>\n",
       "    </tr>\n",
       "  </thead>\n",
       "  <tbody>\n",
       "    <tr>\n",
       "      <th rowspan=\"4\" valign=\"top\">female</th>\n",
       "      <th rowspan=\"3\" valign=\"top\">0</th>\n",
       "      <th rowspan=\"2\" valign=\"top\">0</th>\n",
       "      <th>0</th>\n",
       "      <th>1</th>\n",
       "      <td>977.755886</td>\n",
       "    </tr>\n",
       "    <tr>\n",
       "      <th>1</th>\n",
       "      <th>0</th>\n",
       "      <td>823.037296</td>\n",
       "    </tr>\n",
       "    <tr>\n",
       "      <th>1</th>\n",
       "      <th>0</th>\n",
       "      <th>0</th>\n",
       "      <td>543.437754</td>\n",
       "    </tr>\n",
       "    <tr>\n",
       "      <th>1</th>\n",
       "      <th>0</th>\n",
       "      <th>0</th>\n",
       "      <th>0</th>\n",
       "      <td>417.038708</td>\n",
       "    </tr>\n",
       "    <tr>\n",
       "      <th rowspan=\"4\" valign=\"top\">male</th>\n",
       "      <th rowspan=\"3\" valign=\"top\">0</th>\n",
       "      <th rowspan=\"2\" valign=\"top\">0</th>\n",
       "      <th>0</th>\n",
       "      <th>1</th>\n",
       "      <td>998.880165</td>\n",
       "    </tr>\n",
       "    <tr>\n",
       "      <th>1</th>\n",
       "      <th>0</th>\n",
       "      <td>766.218199</td>\n",
       "    </tr>\n",
       "    <tr>\n",
       "      <th>1</th>\n",
       "      <th>0</th>\n",
       "      <th>0</th>\n",
       "      <td>473.839875</td>\n",
       "    </tr>\n",
       "    <tr>\n",
       "      <th>1</th>\n",
       "      <th>0</th>\n",
       "      <th>0</th>\n",
       "      <th>0</th>\n",
       "      <td>385.375111</td>\n",
       "    </tr>\n",
       "  </tbody>\n",
       "</table>\n",
       "</div>"
      ],
      "text/plain": [
       "                                               tenure\n",
       "gender Youth Millennials Boomers Post_War            \n",
       "female 0     0           0       1         977.755886\n",
       "                         1       0         823.037296\n",
       "             1           0       0         543.437754\n",
       "       1     0           0       0         417.038708\n",
       "male   0     0           0       1         998.880165\n",
       "                         1       0         766.218199\n",
       "             1           0       0         473.839875\n",
       "       1     0           0       0         385.375111"
      ]
     },
     "execution_count": 40,
     "metadata": {},
     "output_type": "execute_result"
    }
   ],
   "source": [
    "# As we can see both female/male-Post war group has been on facebook around same tenure(no of days)\n",
    "pd.pivot_table(df, index=['gender','Youth','Millennials','Boomers','Post_War'] ,values = 'tenure')"
   ]
  },
  {
   "cell_type": "markdown",
   "id": "b227ff0c",
   "metadata": {},
   "source": [
    "# 4) Analysis based on the least active users on Facebook"
   ]
  },
  {
   "cell_type": "markdown",
   "id": "3abd8d88",
   "metadata": {},
   "source": [
    "How many users have no friends?"
   ]
  },
  {
   "cell_type": "code",
   "execution_count": 41,
   "id": "4934a8de",
   "metadata": {},
   "outputs": [
    {
     "data": {
      "text/plain": [
       "1952"
      ]
     },
     "execution_count": 41,
     "metadata": {},
     "output_type": "execute_result"
    }
   ],
   "source": [
    "(df['friend_count'] == 0).sum()"
   ]
  },
  {
   "cell_type": "markdown",
   "id": "e00553ae",
   "metadata": {},
   "source": [
    "How many users did not like any posts?"
   ]
  },
  {
   "cell_type": "code",
   "execution_count": 42,
   "id": "9eb9057a",
   "metadata": {},
   "outputs": [
    {
     "data": {
      "text/plain": [
       "21831"
      ]
     },
     "execution_count": 42,
     "metadata": {},
     "output_type": "execute_result"
    }
   ],
   "source": [
    "(df['likes'] == 0).sum()"
   ]
  },
  {
   "cell_type": "markdown",
   "id": "e10bef30",
   "metadata": {},
   "source": [
    "How many users did not receive any likes"
   ]
  },
  {
   "cell_type": "code",
   "execution_count": 43,
   "id": "a33c65fa",
   "metadata": {},
   "outputs": [
    {
     "data": {
      "text/plain": [
       "23923"
      ]
     },
     "execution_count": 43,
     "metadata": {},
     "output_type": "execute_result"
    }
   ],
   "source": [
    "(df['likes_received'] == 0).sum()"
   ]
  },
  {
   "cell_type": "markdown",
   "id": "ddf27cf0",
   "metadata": {},
   "source": [
    "# 5) Analysis based on the user accessibility (Mobile Devices vs. Web Devices)"
   ]
  },
  {
   "cell_type": "markdown",
   "id": "088d286f",
   "metadata": {},
   "source": [
    "What is the average number of posts liked by users (based on gender) through web vs.\n",
    "mobile devices?"
   ]
  },
  {
   "cell_type": "code",
   "execution_count": 44,
   "id": "d6f2cd3e",
   "metadata": {},
   "outputs": [
    {
     "data": {
      "text/html": [
       "<div>\n",
       "<style scoped>\n",
       "    .dataframe tbody tr th:only-of-type {\n",
       "        vertical-align: middle;\n",
       "    }\n",
       "\n",
       "    .dataframe tbody tr th {\n",
       "        vertical-align: top;\n",
       "    }\n",
       "\n",
       "    .dataframe thead th {\n",
       "        text-align: right;\n",
       "    }\n",
       "</style>\n",
       "<table border=\"1\" class=\"dataframe\">\n",
       "  <thead>\n",
       "    <tr style=\"text-align: right;\">\n",
       "      <th></th>\n",
       "      <th></th>\n",
       "      <th></th>\n",
       "      <th></th>\n",
       "      <th></th>\n",
       "      <th>likes</th>\n",
       "      <th>mobile_likes</th>\n",
       "      <th>www_likes</th>\n",
       "    </tr>\n",
       "    <tr>\n",
       "      <th>gender</th>\n",
       "      <th>Youth</th>\n",
       "      <th>Millennials</th>\n",
       "      <th>Boomers</th>\n",
       "      <th>Post_War</th>\n",
       "      <th></th>\n",
       "      <th></th>\n",
       "      <th></th>\n",
       "    </tr>\n",
       "  </thead>\n",
       "  <tbody>\n",
       "    <tr>\n",
       "      <th rowspan=\"4\" valign=\"top\">female</th>\n",
       "      <th rowspan=\"3\" valign=\"top\">0</th>\n",
       "      <th rowspan=\"2\" valign=\"top\">0</th>\n",
       "      <th>0</th>\n",
       "      <th>1</th>\n",
       "      <td>161.353160</td>\n",
       "      <td>85.483271</td>\n",
       "      <td>75.869888</td>\n",
       "    </tr>\n",
       "    <tr>\n",
       "      <th>1</th>\n",
       "      <th>0</th>\n",
       "      <td>229.993240</td>\n",
       "      <td>124.070280</td>\n",
       "      <td>105.922960</td>\n",
       "    </tr>\n",
       "    <tr>\n",
       "      <th>1</th>\n",
       "      <th>0</th>\n",
       "      <th>0</th>\n",
       "      <td>237.690567</td>\n",
       "      <td>175.563058</td>\n",
       "      <td>62.127277</td>\n",
       "    </tr>\n",
       "    <tr>\n",
       "      <th>1</th>\n",
       "      <th>0</th>\n",
       "      <th>0</th>\n",
       "      <th>0</th>\n",
       "      <td>298.611997</td>\n",
       "      <td>206.509972</td>\n",
       "      <td>92.101923</td>\n",
       "    </tr>\n",
       "    <tr>\n",
       "      <th rowspan=\"4\" valign=\"top\">male</th>\n",
       "      <th rowspan=\"3\" valign=\"top\">0</th>\n",
       "      <th rowspan=\"2\" valign=\"top\">0</th>\n",
       "      <th>0</th>\n",
       "      <th>1</th>\n",
       "      <td>84.835399</td>\n",
       "      <td>38.168733</td>\n",
       "      <td>46.666667</td>\n",
       "    </tr>\n",
       "    <tr>\n",
       "      <th>1</th>\n",
       "      <th>0</th>\n",
       "      <td>94.271794</td>\n",
       "      <td>56.190809</td>\n",
       "      <td>38.080985</td>\n",
       "    </tr>\n",
       "    <tr>\n",
       "      <th>1</th>\n",
       "      <th>0</th>\n",
       "      <th>0</th>\n",
       "      <td>63.476324</td>\n",
       "      <td>50.161215</td>\n",
       "      <td>13.315031</td>\n",
       "    </tr>\n",
       "    <tr>\n",
       "      <th>1</th>\n",
       "      <th>0</th>\n",
       "      <th>0</th>\n",
       "      <th>0</th>\n",
       "      <td>86.098920</td>\n",
       "      <td>63.404828</td>\n",
       "      <td>22.694062</td>\n",
       "    </tr>\n",
       "  </tbody>\n",
       "</table>\n",
       "</div>"
      ],
      "text/plain": [
       "                                                likes  mobile_likes  \\\n",
       "gender Youth Millennials Boomers Post_War                             \n",
       "female 0     0           0       1         161.353160     85.483271   \n",
       "                         1       0         229.993240    124.070280   \n",
       "             1           0       0         237.690567    175.563058   \n",
       "       1     0           0       0         298.611997    206.509972   \n",
       "male   0     0           0       1          84.835399     38.168733   \n",
       "                         1       0          94.271794     56.190809   \n",
       "             1           0       0          63.476324     50.161215   \n",
       "       1     0           0       0          86.098920     63.404828   \n",
       "\n",
       "                                            www_likes  \n",
       "gender Youth Millennials Boomers Post_War              \n",
       "female 0     0           0       1          75.869888  \n",
       "                         1       0         105.922960  \n",
       "             1           0       0          62.127277  \n",
       "       1     0           0       0          92.101923  \n",
       "male   0     0           0       1          46.666667  \n",
       "                         1       0          38.080985  \n",
       "             1           0       0          13.315031  \n",
       "       1     0           0       0          22.694062  "
      ]
     },
     "execution_count": 44,
     "metadata": {},
     "output_type": "execute_result"
    }
   ],
   "source": [
    "# We can see significantly there are much more mobile users than web users, hence posts liked by mobile user are more.\n",
    "pd.pivot_table(df, index=['gender','Youth','Millennials','Boomers','Post_War'] ,values = ['likes','mobile_likes','www_likes'])"
   ]
  },
  {
   "cell_type": "markdown",
   "id": "5b705eef",
   "metadata": {},
   "source": [
    "What is the average number of likes received by users (based on gender) through web\n",
    "vs. mobile devices?"
   ]
  },
  {
   "cell_type": "code",
   "execution_count": 45,
   "id": "b644e398",
   "metadata": {},
   "outputs": [
    {
     "data": {
      "text/html": [
       "<div>\n",
       "<style scoped>\n",
       "    .dataframe tbody tr th:only-of-type {\n",
       "        vertical-align: middle;\n",
       "    }\n",
       "\n",
       "    .dataframe tbody tr th {\n",
       "        vertical-align: top;\n",
       "    }\n",
       "\n",
       "    .dataframe thead th {\n",
       "        text-align: right;\n",
       "    }\n",
       "</style>\n",
       "<table border=\"1\" class=\"dataframe\">\n",
       "  <thead>\n",
       "    <tr style=\"text-align: right;\">\n",
       "      <th></th>\n",
       "      <th></th>\n",
       "      <th></th>\n",
       "      <th></th>\n",
       "      <th></th>\n",
       "      <th>likes</th>\n",
       "      <th>mobile_likes_received</th>\n",
       "      <th>www_likes_received</th>\n",
       "    </tr>\n",
       "    <tr>\n",
       "      <th>gender</th>\n",
       "      <th>Youth</th>\n",
       "      <th>Millennials</th>\n",
       "      <th>Boomers</th>\n",
       "      <th>Post_War</th>\n",
       "      <th></th>\n",
       "      <th></th>\n",
       "      <th></th>\n",
       "    </tr>\n",
       "  </thead>\n",
       "  <tbody>\n",
       "    <tr>\n",
       "      <th rowspan=\"4\" valign=\"top\">female</th>\n",
       "      <th rowspan=\"3\" valign=\"top\">0</th>\n",
       "      <th rowspan=\"2\" valign=\"top\">0</th>\n",
       "      <th>0</th>\n",
       "      <th>1</th>\n",
       "      <td>161.353160</td>\n",
       "      <td>42.689591</td>\n",
       "      <td>36.060719</td>\n",
       "    </tr>\n",
       "    <tr>\n",
       "      <th>1</th>\n",
       "      <th>0</th>\n",
       "      <td>229.993240</td>\n",
       "      <td>67.609790</td>\n",
       "      <td>68.699883</td>\n",
       "    </tr>\n",
       "    <tr>\n",
       "      <th>1</th>\n",
       "      <th>0</th>\n",
       "      <th>0</th>\n",
       "      <td>237.690567</td>\n",
       "      <td>102.573500</td>\n",
       "      <td>73.888966</td>\n",
       "    </tr>\n",
       "    <tr>\n",
       "      <th>1</th>\n",
       "      <th>0</th>\n",
       "      <th>0</th>\n",
       "      <th>0</th>\n",
       "      <td>298.611997</td>\n",
       "      <td>193.296950</td>\n",
       "      <td>129.859523</td>\n",
       "    </tr>\n",
       "    <tr>\n",
       "      <th rowspan=\"4\" valign=\"top\">male</th>\n",
       "      <th rowspan=\"3\" valign=\"top\">0</th>\n",
       "      <th rowspan=\"2\" valign=\"top\">0</th>\n",
       "      <th>0</th>\n",
       "      <th>1</th>\n",
       "      <td>84.835399</td>\n",
       "      <td>37.994490</td>\n",
       "      <td>45.059229</td>\n",
       "    </tr>\n",
       "    <tr>\n",
       "      <th>1</th>\n",
       "      <th>0</th>\n",
       "      <td>94.271794</td>\n",
       "      <td>32.277719</td>\n",
       "      <td>26.910719</td>\n",
       "    </tr>\n",
       "    <tr>\n",
       "      <th>1</th>\n",
       "      <th>0</th>\n",
       "      <th>0</th>\n",
       "      <td>63.476324</td>\n",
       "      <td>29.734579</td>\n",
       "      <td>18.404128</td>\n",
       "    </tr>\n",
       "    <tr>\n",
       "      <th>1</th>\n",
       "      <th>0</th>\n",
       "      <th>0</th>\n",
       "      <th>0</th>\n",
       "      <td>86.098920</td>\n",
       "      <td>41.735614</td>\n",
       "      <td>25.662338</td>\n",
       "    </tr>\n",
       "  </tbody>\n",
       "</table>\n",
       "</div>"
      ],
      "text/plain": [
       "                                                likes  mobile_likes_received  \\\n",
       "gender Youth Millennials Boomers Post_War                                      \n",
       "female 0     0           0       1         161.353160              42.689591   \n",
       "                         1       0         229.993240              67.609790   \n",
       "             1           0       0         237.690567             102.573500   \n",
       "       1     0           0       0         298.611997             193.296950   \n",
       "male   0     0           0       1          84.835399              37.994490   \n",
       "                         1       0          94.271794              32.277719   \n",
       "             1           0       0          63.476324              29.734579   \n",
       "       1     0           0       0          86.098920              41.735614   \n",
       "\n",
       "                                           www_likes_received  \n",
       "gender Youth Millennials Boomers Post_War                      \n",
       "female 0     0           0       1                  36.060719  \n",
       "                         1       0                  68.699883  \n",
       "             1           0       0                  73.888966  \n",
       "       1     0           0       0                 129.859523  \n",
       "male   0     0           0       1                  45.059229  \n",
       "                         1       0                  26.910719  \n",
       "             1           0       0                  18.404128  \n",
       "       1     0           0       0                  25.662338  "
      ]
     },
     "execution_count": 45,
     "metadata": {},
     "output_type": "execute_result"
    }
   ],
   "source": [
    "# Similary we can see likes received via mobile apps are significantly more.\n",
    "pd.pivot_table(df, index=['gender','Youth','Millennials','Boomers','Post_War'] ,values = ['likes','mobile_likes_received','www_likes_received'])"
   ]
  },
  {
   "cell_type": "code",
   "execution_count": null,
   "id": "d3edcbd9",
   "metadata": {},
   "outputs": [],
   "source": []
  }
 ],
 "metadata": {
  "kernelspec": {
   "display_name": "Python 3",
   "language": "python",
   "name": "python3"
  },
  "language_info": {
   "codemirror_mode": {
    "name": "ipython",
    "version": 3
   },
   "file_extension": ".py",
   "mimetype": "text/x-python",
   "name": "python",
   "nbconvert_exporter": "python",
   "pygments_lexer": "ipython3",
   "version": "3.9.2"
  }
 },
 "nbformat": 4,
 "nbformat_minor": 5
}
